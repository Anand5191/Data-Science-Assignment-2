{
  "nbformat": 4,
  "nbformat_minor": 0,
  "metadata": {
    "colab": {
      "provenance": []
    },
    "kernelspec": {
      "name": "python3",
      "display_name": "Python 3"
    },
    "language_info": {
      "name": "python"
    }
  },
  "cells": [
    {
      "cell_type": "code",
      "execution_count": null,
      "metadata": {
        "id": "rwxuaeCTgBMy"
      },
      "outputs": [],
      "source": [
        "# Q1\n",
        "\n",
        "\"\"\" Analysis of Variance (ANOVA) is a statistical method used to test differences between two or more group means. To ensure\n",
        "the validity of ANOVA results, several key assumptions must be met. These assumptions are critical for the accurate interpretation\n",
        "of the results and include:\n",
        "\n",
        "1. Independence of Observations\n",
        "The first assumption of ANOVA is that the observations within each group must be independent of one another. This means that the\n",
        "data collected from one participant should not influence or be related to the data collected from another participant.\n",
        "\n",
        "Example of Violation:\n",
        "If a study involves repeated measures on the same subjects (e.g., measuring blood pressure before and after treatment), this\n",
        "violates the independence assumption because the measurements are correlated.\n",
        "\n",
        "2. Normality\n",
        "The second assumption is that the data in each group should be approximately normally distributed. This is particularly important\n",
        "when sample sizes are small, as ANOVA is sensitive to deviations from normality.\n",
        "\n",
        "Example of Violation:\n",
        "If a researcher conducts an ANOVA on test scores that are heavily skewed (e.g., many students scoring very low with few high\n",
        "scores), this could lead to inaccurate F-ratios and p-values, thus affecting conclusions drawn from the analysis.\n",
        "\n",
        "3. Homogeneity of Variances\n",
        "Also known as homoscedasticity, this assumption states that the variances among different groups should be roughly equal. If there\n",
        "are significant differences in variances, it can lead to misleading results in ANOVA.\n",
        "\n",
        "Example of Violation:\n",
        "In an experiment comparing three different teaching methods, if one method produces highly variable student performance while\n",
        "another method yields consistent results, this violation can affect the robustness of ANOVA tests.\n",
        "\n",
        "4. Measurement Scale\n",
        "ANOVA requires that dependent variables are measured at least at an interval scale. This means that data should have meaningful\n",
        "numerical values where both differences and ratios make sense.\n",
        "\n",
        "Example of Violation:\n",
        "Using ordinal data (e.g., rankings) instead of interval data (e.g., test scores) would violate this assumption since ordinal scales\n",
        "do not support arithmetic operations necessary for ANOVA calculations.\n",
        "\n",
        "5. Random Sampling\n",
        "The final assumption is that samples should be randomly selected from their respective populations. This ensures that each member\n",
        "has an equal chance of being included in any group, which helps generalize findings beyond just those sampled.\n",
        "\n",
        "Example of Violation:\n",
        "If a researcher selects participants based on convenience (e.g., only using students from one class), this could introduce bias\n",
        "and limit the ability to generalize findings across a broader population.\n",
        "\n",
        "Impact of Violations on Validity\n",
        "Violating any of these assumptions can lead to incorrect conclusions regarding group differences. For example:\n",
        "\n",
        "Independence Violations: Can inflate Type I error rates.\n",
        "Normality Violations: May result in unreliable F-tests.\n",
        "Homogeneity Violations: Can distort significance tests leading to either false positives or negatives.\n",
        "Measurement Scale Violations: Compromise statistical calculations.\n",
        "Random Sampling Violations: Limit external validity and increase bias.\n",
        "When these assumptions are not met, researchers may need to consider alternative statistical methods or transformations to\n",
        "correct for violations before proceeding with ANOVA analysis. \"\"\"\n",
        "\n"
      ]
    },
    {
      "cell_type": "code",
      "source": [
        "# Q2\n",
        "\n",
        "\"\"\" Analysis of Variance (ANOVA) is a powerful statistical method used to compare means across multiple groups. There are\n",
        "three primary types of ANOVA: One-Way ANOVA, Two-Way ANOVA, and Repeated Measures ANOVA. Each type serves specific purposes\n",
        "depending on the experimental design and research questions.\n",
        "\n",
        "1. One-Way ANOVA\n",
        "Description\n",
        "One-Way ANOVA is used when comparing the means of three or more independent groups based on one independent variable (factor).\n",
        "It assesses whether there are statistically significant differences among the group means.\n",
        "\n",
        "Situations for Use\n",
        "Comparing Different Treatments: For example, researchers might want to compare the effectiveness of three different medications\n",
        "on blood pressure levels.\n",
        "Evaluating Educational Methods: A study could assess student performance across different teaching methods (e.g., traditional,\n",
        "online, hybrid).\n",
        "Market Research: Analyzing customer satisfaction ratings across various brands or products.\n",
        "2. Two-Way ANOVA\n",
        "Description\n",
        "Two-Way ANOVA extends the One-Way ANOVA by examining the influence of two independent variables on a dependent variable. It can\n",
        "also assess interaction effects between the two factors.\n",
        "\n",
        "Situations for Use\n",
        "Investigating Interactions: For instance, researchers may want to explore how both gender and teaching method affect student\n",
        "performance.\n",
        "Agricultural Studies: Comparing crop yields based on different fertilizers and irrigation methods simultaneously.\n",
        "Clinical Trials: Evaluating treatment effects while considering patient demographics such as age and gender.\n",
        "3. Repeated Measures ANOVA\n",
        "Description\n",
        "Repeated Measures ANOVA is utilized when the same subjects are measured multiple times under different conditions or over time.\n",
        "This type accounts for correlations between repeated measurements.\n",
        "\n",
        "Situations for Use\n",
        "Longitudinal Studies: Assessing changes in health metrics (e.g., cholesterol levels) at multiple time points after an intervention.\n",
        "Psychological Experiments: Measuring participants’ responses to stimuli at different intervals during an experiment.\n",
        "Clinical Assessments: Evaluating patient outcomes before, during, and after treatment in a controlled setting.\"\"\"\n"
      ],
      "metadata": {
        "id": "pLPoBXjOgwXX"
      },
      "execution_count": null,
      "outputs": []
    },
    {
      "cell_type": "code",
      "source": [
        "# Q3\n",
        "\n",
        "\"\"\" In the context of Analysis of Variance (ANOVA), partitioning of variance refers to the process of breaking down the total\n",
        "variance observed in a dataset into components attributable to different sources. This is a fundamental concept in ANOVA as it\n",
        "allows researchers to understand how much of the total variability in their data can be explained by the factors being studied,\n",
        "as well as how much is due to random error or unexplained variation.\n",
        "\n",
        "Importance of Understanding Variance Partitioning :\n",
        "Identifying Sources of Variation: By partitioning variance, researchers can identify which factors contribute most significantly\n",
        " to variability in their dependent variable. This understanding can guide further research and experimentation.\n",
        "\n",
        "Statistical Testing: The F-statistic used in ANOVA is derived from these sums of squares. Specifically, it is calculated as the\n",
        "ratio of MS(between)(mean square between groups) to MS(within)\n",
        " (mean square within groups). A significant F-statistic indicates that at least one group mean differs from others, suggesting that not all treatments are equally effective.\n",
        "\n",
        "Model Evaluation: In regression analysis and experimental design, knowing how much variance is explained by specific factors versus residual error helps evaluate model fit and effectiveness. It allows for better decision-making regarding which variables should be included in models.\n",
        "\n",
        "Effect Size Calculation: The proportion of variance explained by a factor (often represented as η2) provides insight into effect\n",
        " size, helping researchers understand practical significance beyond mere statistical significance.\n",
        "\n",
        "Guiding Future Research: Understanding where variation comes from can inform future studies about what additional factors might\n",
        "need to be controlled for or examined more closely.\n"
      ],
      "metadata": {
        "id": "ExbKd92ogwZ4"
      },
      "execution_count": null,
      "outputs": []
    },
    {
      "cell_type": "code",
      "source": [
        "# Q4\n",
        "\n",
        "import numpy as np\n",
        "import scipy.stats as stats\n",
        "\n",
        "# Sample data for three groups\n",
        "group1 = np.array([10, 12, 14, 11, 13])\n",
        "group2 = np.array([20, 22, 19, 21, 23])\n",
        "group3 = np.array([30, 28, 32, 29, 31])\n",
        "\n",
        "# Combine all groups\n",
        "all_data = np.concatenate([group1, group2, group3])\n",
        "\n",
        "# Compute overall mean\n",
        "overall_mean = np.mean(all_data)\n",
        "\n",
        "# Compute SST (Total Sum of Squares)\n",
        "sst = np.sum((all_data - overall_mean) ** 2)\n",
        "\n",
        "# Compute SSE (Explained Sum of Squares)\n",
        "group_means = [np.mean(group) for group in [group1, group2, group3]]\n",
        "sse = sum(len(group) * (group_mean - overall_mean) ** 2 for group, group_mean in zip([group1, group2, group3], group_means))\n",
        "\n",
        "# Compute SSR (Residual Sum of Squares)\n",
        "ssr = sum(np.sum((group - group_mean) ** 2) for group, group_mean in zip([group1, group2, group3], group_means))\n",
        "\n",
        "# Print results\n",
        "print(f\"Total Sum of Squares (SST): {sst:.2f}\")\n",
        "print(f\"Explained Sum of Squares (SSE): {sse:.2f}\")\n",
        "print(f\"Residual Sum of Squares (SSR): {ssr:.2f}\")\n",
        "\n",
        "# Verify SST = SSE + SSR\n",
        "print(f\"Verification (SST ≈ SSE + SSR): {sst:.2f} ≈ {sse + ssr:.2f}\")\n"
      ],
      "metadata": {
        "colab": {
          "base_uri": "https://localhost:8080/"
        },
        "id": "JpCd9Z7ZgwcV",
        "outputId": "456cd209-8c9d-44c1-d04c-40e916c9887d"
      },
      "execution_count": 1,
      "outputs": [
        {
          "output_type": "stream",
          "name": "stdout",
          "text": [
            "Total Sum of Squares (SST): 840.00\n",
            "Explained Sum of Squares (SSE): 810.00\n",
            "Residual Sum of Squares (SSR): 30.00\n",
            "Verification (SST ≈ SSE + SSR): 840.00 ≈ 840.00\n"
          ]
        }
      ]
    },
    {
      "cell_type": "code",
      "source": [
        "# Q5\n",
        "\n",
        "import numpy as np\n",
        "import pandas as pd\n",
        "import statsmodels.api as sm\n",
        "import statsmodels.formula.api as smf\n",
        "\n",
        "data = pd.DataFrame({\n",
        "    'Diet': np.repeat(['Low-Carb', 'Low-Fat'], 6),\n",
        "    'Exercise': ['Yes', 'No'] * 6,\n",
        "    'WeightLoss': [4, 3, 5, 4, 6, 5, 3, 2, 4, 3, 5, 4]\n",
        "})\n",
        "\n",
        "model = smf.ols('WeightLoss ~ C(Diet) + C(Exercise) + C(Diet):C(Exercise)', data=data).fit()\n",
        "anova_table = sm.stats.anova_lm(model, typ=2)\n",
        "\n",
        "print(anova_table)\n"
      ],
      "metadata": {
        "colab": {
          "base_uri": "https://localhost:8080/"
        },
        "id": "p87bRLaIgwez",
        "outputId": "7152cba0-b8fe-4d9f-a6d4-5aa98b6d6efe"
      },
      "execution_count": 2,
      "outputs": [
        {
          "output_type": "stream",
          "name": "stdout",
          "text": [
            "                           sum_sq   df             F    PR(>F)\n",
            "C(Diet)              3.000000e+00  1.0  3.000000e+00  0.121503\n",
            "C(Exercise)          3.000000e+00  1.0  3.000000e+00  0.121503\n",
            "C(Diet):C(Exercise)  6.739214e-30  1.0  6.739214e-30  1.000000\n",
            "Residual             8.000000e+00  8.0           NaN       NaN\n"
          ]
        }
      ]
    },
    {
      "cell_type": "code",
      "source": [
        "# Q6\n",
        "\"\"\" Interpretation of One-Way ANOVA Results\n",
        "In a one-way ANOVA, we test whether there are significant differences between the means of multiple groups. Given:\n",
        "\n",
        "F-statistic = 5.23\n",
        "\n",
        "p-value = 0.02\n",
        "\n",
        "Significance Level (α) = 0.05 (assuming the standard threshold)\n",
        "\n",
        "Step-by-Step Interpretation\n",
        "State the Hypotheses\n",
        "\n",
        "Null Hypothesis (H₀): The means of all groups are equal (no significant difference).\n",
        "\n",
        "Alternative Hypothesis (H₁): At least one group mean is different.\n",
        "\n",
        "Compare p-value to α (0.05)\n",
        "\n",
        "Since p-value (0.02) < 0.05, we reject the null hypothesis.\n",
        "\n",
        "This means that at least one group's mean is significantly different from the others.\n",
        "\n",
        "Interpretation of F-Statistic (5.23)\n",
        "\n",
        "A higher F-statistic suggests that the variance between groups is greater than the variance within groups.\n",
        "\n",
        "F = 5.23 indicates that the observed differences between the group means are unlikely to be due to random chance.\"\"\""
      ],
      "metadata": {
        "id": "qLY6ko9Ogwhh"
      },
      "execution_count": null,
      "outputs": []
    },
    {
      "cell_type": "code",
      "source": [
        "# Q7\n",
        "\n",
        "\"\"\" Handling Missing Data in Repeated Measures ANOVA\n",
        "In repeated measures ANOVA, missing data can affect statistical power and bias results. Here’s how to handle it and the consequences of different methods:\n",
        "\n",
        "Methods to Handle Missing Data\n",
        "Listwise Deletion (Complete Case Analysis)\n",
        "\n",
        "How? Remove participants with any missing values.\n",
        "\n",
        "Pros: Simple, maintains balanced design.\n",
        "\n",
        "Cons: Reduces sample size, leading to lower statistical power and potential bias if data is not missing completely at random (MCAR).\n",
        "\n",
        "Mean or Group Mean Imputation\n",
        "\n",
        "How? Replace missing values with the group mean.\n",
        "\n",
        "Pros: Preserves sample size.\n",
        "\n",
        "Cons: Underestimates variability, inflates Type I error rate.\n",
        "\n",
        "Last Observation Carried Forward (LOCF)\n",
        "\n",
        "How? Replace missing value with the last available observation for that participant.\n",
        "\n",
        "Pros: Simple, maintains within-subject consistency.\n",
        "\n",
        "Cons: Introduces bias if values change over time.\n",
        "\n",
        "Multiple Imputation (MI)\n",
        "\n",
        "How? Predict missing values using regression models or machine learning.\n",
        "\n",
        "Pros: Accounts for uncertainty, preserves variability.\n",
        "\n",
        "Cons: Computationally intensive, assumptions about data distribution.\n",
        "\n",
        "Maximum Likelihood Estimation (MLE) via Mixed-Effects Models\n",
        "\n",
        "How? Use mixed-effects models (e.g., lme4 in R or statsmodels in Python) to estimate missing values.\n",
        "\n",
        "Pros: Best approach for handling missing data in repeated measures, as it accounts for within-subject correlation.\n",
        "\n",
        "Cons: Requires more complex modeling.\"\"\""
      ],
      "metadata": {
        "id": "tGmM2sjUgwkF"
      },
      "execution_count": null,
      "outputs": []
    },
    {
      "cell_type": "code",
      "source": [
        "# Q8\n",
        "\n",
        "import numpy as np\n",
        "import pandas as pd\n",
        "from statsmodels.stats.multicomp import pairwise_tukeyhsd\n",
        "\n",
        "data = pd.DataFrame({\n",
        "    'Technique': np.repeat(['A', 'B', 'C'], 10),\n",
        "    'Score': [75, 78, 72, 80, 77, 79, 81, 74, 76, 78, 85, 82, 88, 90, 87, 86, 89, 91, 83, 84,\n",
        "              70, 72, 68, 74, 71, 69, 73, 67, 66, 70]\n",
        "})\n",
        "\n",
        "tukey = pairwise_tukeyhsd(data['Score'], data['Technique'], alpha=0.05)\n",
        "\n",
        "print(tukey)\n"
      ],
      "metadata": {
        "colab": {
          "base_uri": "https://localhost:8080/"
        },
        "id": "jEVaYZeFgwnq",
        "outputId": "ac14ea7f-2db3-465f-b078-2d1f0b0f05d8"
      },
      "execution_count": 3,
      "outputs": [
        {
          "output_type": "stream",
          "name": "stdout",
          "text": [
            " Multiple Comparison of Means - Tukey HSD, FWER=0.05 \n",
            "=====================================================\n",
            "group1 group2 meandiff p-adj  lower    upper   reject\n",
            "-----------------------------------------------------\n",
            "     A      B      9.5   0.0   6.3893  12.6107   True\n",
            "     A      C     -7.0   0.0 -10.1107  -3.8893   True\n",
            "     B      C    -16.5   0.0 -19.6107 -13.3893   True\n",
            "-----------------------------------------------------\n"
          ]
        }
      ]
    },
    {
      "cell_type": "code",
      "source": [
        "# Q9\n",
        "\n",
        "import numpy as np\n",
        "import pandas as pd\n",
        "import scipy.stats as stats\n",
        "\n",
        "np.random.seed(42)\n",
        "diet_A = np.random.normal(loc=5, scale=1.5, size=17)\n",
        "diet_B = np.random.normal(loc=4, scale=1.2, size=16)\n",
        "diet_C = np.random.normal(loc=6, scale=1.3, size=17)\n",
        "\n",
        "f_statistic, p_value = stats.f_oneway(diet_A, diet_B, diet_C)\n",
        "\n",
        "print(f\"F-statistic: {f_statistic:.2f}\")\n",
        "print(f\"P-value: {p_value:.4f}\")\n",
        "\n",
        "alpha = 0.05\n",
        "if p_value < alpha:\n",
        "    print(\"Result: There is a significant difference in weight loss between at least two diets.\")\n",
        "else:\n",
        "    print(\"Result: No significant difference in weight loss between diets.\")\n"
      ],
      "metadata": {
        "colab": {
          "base_uri": "https://localhost:8080/"
        },
        "id": "Xl5wOIJqj0xP",
        "outputId": "6799ff75-3ca1-4562-8646-a3fe72332159"
      },
      "execution_count": 5,
      "outputs": [
        {
          "output_type": "stream",
          "name": "stdout",
          "text": [
            "F-statistic: 7.54\n",
            "P-value: 0.0014\n",
            "Result: There is a significant difference in weight loss between at least two diets.\n"
          ]
        }
      ]
    },
    {
      "cell_type": "code",
      "source": [
        "# Q10\n",
        "\n",
        "import numpy as np\n",
        "import pandas as pd\n",
        "import statsmodels.api as sm\n",
        "import statsmodels.formula.api as smf\n",
        "\n",
        "np.random.seed(42)\n",
        "data = pd.DataFrame({\n",
        "    'Software': np.tile(['A', 'B', 'C'], 10),\n",
        "    'Experience': np.repeat(['Novice', 'Experienced'], 15),\n",
        "    'CompletionTime': np.random.normal(loc=30, scale=5, size=30)\n",
        "})\n",
        "\n",
        "model = smf.ols('CompletionTime ~ C(Software) + C(Experience) + C(Software):C(Experience)', data=data).fit()\n",
        "anova_results = sm.stats.anova_lm(model, typ=2)\n",
        "\n",
        "print(anova_results)\n",
        "\n"
      ],
      "metadata": {
        "colab": {
          "base_uri": "https://localhost:8080/"
        },
        "id": "JxEy1Qo3j2Tg",
        "outputId": "d8bb99c3-3e27-4534-a0f4-a23c74da6d83"
      },
      "execution_count": 6,
      "outputs": [
        {
          "output_type": "stream",
          "name": "stdout",
          "text": [
            "                               sum_sq    df         F    PR(>F)\n",
            "C(Software)                 75.399176   2.0  2.212061  0.131308\n",
            "C(Experience)               29.550324   1.0  1.733895  0.200350\n",
            "C(Software):C(Experience)   73.283022   2.0  2.149977  0.138390\n",
            "Residual                   409.025866  24.0       NaN       NaN\n"
          ]
        }
      ]
    },
    {
      "cell_type": "code",
      "source": [
        "# Q11\n",
        "\n",
        "import numpy as np\n",
        "import scipy.stats as stats\n",
        "import pandas as pd\n",
        "from statsmodels.stats.multicomp import pairwise_tukeyhsd\n",
        "\n",
        "np.random.seed(42)\n",
        "control_scores = np.random.normal(loc=75, scale=10, size=50)\n",
        "experimental_scores = np.random.normal(loc=80, scale=10, size=50)\n",
        "\n",
        "t_stat, p_value = stats.ttest_ind(control_scores, experimental_scores, equal_var=True)\n",
        "\n",
        "print(f\"T-Statistic: {t_stat:.2f}\")\n",
        "print(f\"P-value: {p_value:.4f}\")\n",
        "\n",
        "alpha = 0.05\n",
        "if p_value < alpha:\n",
        "    print(\"Result: There is a significant difference in test scores between the two teaching methods.\")\n",
        "else:\n",
        "    print(\"Result: No significant difference in test scores between teaching methods.\")\n",
        "\n",
        "data = pd.DataFrame({\n",
        "    'Method': ['Control'] * 50 + ['Experimental'] * 50,\n",
        "    'Score': np.concatenate([control_scores, experimental_scores])\n",
        "})\n",
        "\n",
        "tukey = pairwise_tukeyhsd(data['Score'], data['Method'], alpha=0.05)\n",
        "\n",
        "print(tukey)\n"
      ],
      "metadata": {
        "colab": {
          "base_uri": "https://localhost:8080/"
        },
        "id": "Y-SDX7y5kXOX",
        "outputId": "ef0e6806-40e7-490a-8fc4-e06fc45c89f8"
      },
      "execution_count": 7,
      "outputs": [
        {
          "output_type": "stream",
          "name": "stdout",
          "text": [
            "T-Statistic: -4.11\n",
            "P-value: 0.0001\n",
            "Result: There is a significant difference in test scores between the two teaching methods.\n",
            "   Multiple Comparison of Means - Tukey HSD, FWER=0.05    \n",
            "==========================================================\n",
            " group1    group2    meandiff p-adj  lower   upper  reject\n",
            "----------------------------------------------------------\n",
            "Control Experimental   7.4325 0.0001 3.8427 11.0224   True\n",
            "----------------------------------------------------------\n"
          ]
        }
      ]
    },
    {
      "cell_type": "code",
      "source": [
        "pip install pingouin\n"
      ],
      "metadata": {
        "colab": {
          "base_uri": "https://localhost:8080/"
        },
        "id": "stOJ4-Gold2E",
        "outputId": "52fbc4e7-4a82-4145-aa4d-67468dd797d6"
      },
      "execution_count": 10,
      "outputs": [
        {
          "output_type": "stream",
          "name": "stdout",
          "text": [
            "Collecting pingouin\n",
            "  Downloading pingouin-0.5.5-py3-none-any.whl.metadata (19 kB)\n",
            "Requirement already satisfied: matplotlib in /usr/local/lib/python3.11/dist-packages (from pingouin) (3.10.0)\n",
            "Requirement already satisfied: numpy in /usr/local/lib/python3.11/dist-packages (from pingouin) (2.0.2)\n",
            "Requirement already satisfied: pandas>=1.5 in /usr/local/lib/python3.11/dist-packages (from pingouin) (2.2.2)\n",
            "Collecting pandas-flavor (from pingouin)\n",
            "  Downloading pandas_flavor-0.6.0-py3-none-any.whl.metadata (6.3 kB)\n",
            "Requirement already satisfied: scikit-learn>=1.2 in /usr/local/lib/python3.11/dist-packages (from pingouin) (1.6.1)\n",
            "Requirement already satisfied: scipy in /usr/local/lib/python3.11/dist-packages (from pingouin) (1.14.1)\n",
            "Requirement already satisfied: seaborn in /usr/local/lib/python3.11/dist-packages (from pingouin) (0.13.2)\n",
            "Requirement already satisfied: statsmodels in /usr/local/lib/python3.11/dist-packages (from pingouin) (0.14.4)\n",
            "Requirement already satisfied: tabulate in /usr/local/lib/python3.11/dist-packages (from pingouin) (0.9.0)\n",
            "Requirement already satisfied: python-dateutil>=2.8.2 in /usr/local/lib/python3.11/dist-packages (from pandas>=1.5->pingouin) (2.8.2)\n",
            "Requirement already satisfied: pytz>=2020.1 in /usr/local/lib/python3.11/dist-packages (from pandas>=1.5->pingouin) (2025.1)\n",
            "Requirement already satisfied: tzdata>=2022.7 in /usr/local/lib/python3.11/dist-packages (from pandas>=1.5->pingouin) (2025.1)\n",
            "Requirement already satisfied: joblib>=1.2.0 in /usr/local/lib/python3.11/dist-packages (from scikit-learn>=1.2->pingouin) (1.4.2)\n",
            "Requirement already satisfied: threadpoolctl>=3.1.0 in /usr/local/lib/python3.11/dist-packages (from scikit-learn>=1.2->pingouin) (3.6.0)\n",
            "Requirement already satisfied: contourpy>=1.0.1 in /usr/local/lib/python3.11/dist-packages (from matplotlib->pingouin) (1.3.1)\n",
            "Requirement already satisfied: cycler>=0.10 in /usr/local/lib/python3.11/dist-packages (from matplotlib->pingouin) (0.12.1)\n",
            "Requirement already satisfied: fonttools>=4.22.0 in /usr/local/lib/python3.11/dist-packages (from matplotlib->pingouin) (4.56.0)\n",
            "Requirement already satisfied: kiwisolver>=1.3.1 in /usr/local/lib/python3.11/dist-packages (from matplotlib->pingouin) (1.4.8)\n",
            "Requirement already satisfied: packaging>=20.0 in /usr/local/lib/python3.11/dist-packages (from matplotlib->pingouin) (24.2)\n",
            "Requirement already satisfied: pillow>=8 in /usr/local/lib/python3.11/dist-packages (from matplotlib->pingouin) (11.1.0)\n",
            "Requirement already satisfied: pyparsing>=2.3.1 in /usr/local/lib/python3.11/dist-packages (from matplotlib->pingouin) (3.2.1)\n",
            "Requirement already satisfied: xarray in /usr/local/lib/python3.11/dist-packages (from pandas-flavor->pingouin) (2025.1.2)\n",
            "Requirement already satisfied: patsy>=0.5.6 in /usr/local/lib/python3.11/dist-packages (from statsmodels->pingouin) (1.0.1)\n",
            "Requirement already satisfied: six>=1.5 in /usr/local/lib/python3.11/dist-packages (from python-dateutil>=2.8.2->pandas>=1.5->pingouin) (1.17.0)\n",
            "Downloading pingouin-0.5.5-py3-none-any.whl (204 kB)\n",
            "\u001b[2K   \u001b[90m━━━━━━━━━━━━━━━━━━━━━━━━━━━━━━━━━━━━━━━━\u001b[0m \u001b[32m204.4/204.4 kB\u001b[0m \u001b[31m5.3 MB/s\u001b[0m eta \u001b[36m0:00:00\u001b[0m\n",
            "\u001b[?25hDownloading pandas_flavor-0.6.0-py3-none-any.whl (7.2 kB)\n",
            "Installing collected packages: pandas-flavor, pingouin\n",
            "Successfully installed pandas-flavor-0.6.0 pingouin-0.5.5\n"
          ]
        }
      ]
    },
    {
      "cell_type": "code",
      "source": [
        "# Q12\n",
        "import numpy as np\n",
        "import pandas as pd\n",
        "import scipy.stats as stats\n",
        "import pingouin as pg\n",
        "from statsmodels.stats.multicomp import pairwise_tukeyhsd\n",
        "import matplotlib.pyplot as plt\n",
        "\n",
        "np.random.seed(42)\n",
        "days = np.arange(1, 31)\n",
        "store_A = np.random.normal(loc=200, scale=20, size=30)\n",
        "store_B = np.random.normal(loc=210, scale=25, size=30)\n",
        "store_C = np.random.normal(loc=190, scale=22, size=30)\n",
        "\n",
        "data = pd.DataFrame({\n",
        "    'Day': np.tile(days, 3),\n",
        "    'Store': np.repeat(['A', 'B', 'C'], 30),\n",
        "    'Sales': np.concatenate([store_A, store_B, store_C])\n",
        "})\n",
        "\n",
        "anova_results = pg.rm_anova(dv='Sales', within='Store', subject='Day', data=data, detailed=True)\n",
        "\n",
        "print(anova_results)\n",
        "\n",
        "alpha = 0.05\n",
        "if anova_results['p-unc'][0] < alpha:\n",
        "    print(\"Result: There is a significant difference in sales between the stores.\")\n",
        "else:\n",
        "    print(\"Result: No significant difference in sales between stores.\")\n",
        "\n",
        "tukey = pairwise_tukeyhsd(data['Sales'], data['Store'], alpha=0.05)\n",
        "print(tukey)\n",
        "\n",
        "plt.figure(figsize=(8,6))\n",
        "data.boxplot(by=\"Store\", column=\"Sales\", grid=False)\n",
        "plt.title(\"Daily Sales Distribution Across Stores\")\n",
        "plt.suptitle(\"\")\n",
        "plt.xlabel(\"Store\")\n",
        "plt.ylabel(\"Sales\")\n",
        "plt.show()\n"
      ],
      "metadata": {
        "colab": {
          "base_uri": "https://localhost:8080/",
          "height": 698
        },
        "id": "_oGKiMOAkupH",
        "outputId": "6c0a06bb-b297-463e-b95d-57f3e8c0394e"
      },
      "execution_count": 11,
      "outputs": [
        {
          "output_type": "stream",
          "name": "stdout",
          "text": [
            "  Source            SS  DF           MS         F     p-unc       ng2      eps\n",
            "0  Store   4291.331791   2  2145.665896  4.994377  0.009971  0.099307  0.97843\n",
            "1  Error  24917.745426  58   429.616300       NaN       NaN       NaN      NaN\n",
            "Result: There is a significant difference in sales between the stores.\n",
            " Multiple Comparison of Means - Tukey HSD, FWER=0.05 \n",
            "=====================================================\n",
            "group1 group2 meandiff p-adj   lower    upper  reject\n",
            "-----------------------------------------------------\n",
            "     A      B  10.7339  0.127  -2.2883  23.756  False\n",
            "     A      C  -5.9536 0.5227 -18.9758  7.0686  False\n",
            "     B      C -16.6875 0.0083 -29.7096 -3.6653   True\n",
            "-----------------------------------------------------\n"
          ]
        },
        {
          "output_type": "display_data",
          "data": {
            "text/plain": [
              "<Figure size 800x600 with 0 Axes>"
            ]
          },
          "metadata": {}
        },
        {
          "output_type": "display_data",
          "data": {
            "text/plain": [
              "<Figure size 640x480 with 1 Axes>"
            ],
            "image/png": "[encoded data removed]"
          },
          "metadata": {}
        }
      ]
    },
    {
      "cell_type": "code",
      "source": [],
      "metadata": {
        "id": "xLtxe5gUlMFC"
      },
      "execution_count": null,
      "outputs": []
    }
  ]
}