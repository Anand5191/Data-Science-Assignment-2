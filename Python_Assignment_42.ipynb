{
  "nbformat": 4,
  "nbformat_minor": 0,
  "metadata": {
    "colab": {
      "provenance": []
    },
    "kernelspec": {
      "name": "python3",
      "display_name": "Python 3"
    },
    "language_info": {
      "name": "python"
    }
  },
  "cells": [
    {
      "cell_type": "code",
      "execution_count": 1,
      "metadata": {
        "colab": {
          "base_uri": "https://localhost:8080/"
        },
        "id": "O2JSqrGkTID2",
        "outputId": "133ae2f7-5a5c-473b-e2f2-7465583706c5"
      },
      "outputs": [
        {
          "output_type": "stream",
          "name": "stdout",
          "text": [
            "Pearson Correlation Coefficient: 0.9645\n",
            "P-Value: 0.0000\n"
          ]
        }
      ],
      "source": [
        "# Q1\n",
        "\n",
        "import numpy as np\n",
        "import pandas as pd\n",
        "from scipy.stats import pearsonr\n",
        "\n",
        "study_time = [2, 3, 5, 7, 8, 10, 12, 15, 18, 20]\n",
        "exam_scores = [50, 55, 65, 70, 75, 80, 85, 90, 92, 95]\n",
        "\n",
        "df = pd.DataFrame({'Study_Time': study_time, 'Exam_Scores': exam_scores})\n",
        "\n",
        "corr_coefficient, p_value = pearsonr(df['Study_Time'], df['Exam_Scores'])\n",
        "\n",
        "print(f\"Pearson Correlation Coefficient: {corr_coefficient:.4f}\")\n",
        "print(f\"P-Value: {p_value:.4f}\")\n"
      ]
    },
    {
      "cell_type": "code",
      "source": [
        "# Q2\n",
        "\n",
        "import numpy as np\n",
        "import pandas as pd\n",
        "from scipy.stats import spearmanr\n",
        "\n",
        "sleep_hours = [5, 6, 7, 4, 8, 6, 9, 7, 5, 10]\n",
        "job_satisfaction = [4, 5, 7, 3, 8, 6, 9, 7, 4, 10]\n",
        "\n",
        "df = pd.DataFrame({'Sleep_Hours': sleep_hours, 'Job_Satisfaction': job_satisfaction})\n",
        "\n",
        "spearman_corr, p_value = spearmanr(df['Sleep_Hours'], df['Job_Satisfaction'])\n",
        "\n",
        "print(f\"Spearman Correlation Coefficient: {spearman_corr:.4f}\")\n",
        "print(f\"P-Value: {p_value:.4f}\")\n"
      ],
      "metadata": {
        "colab": {
          "base_uri": "https://localhost:8080/"
        },
        "id": "UTxnQPIMTrb6",
        "outputId": "bdac4177-8a91-4365-ed41-0fa074205f3e"
      },
      "execution_count": 2,
      "outputs": [
        {
          "output_type": "stream",
          "name": "stdout",
          "text": [
            "Spearman Correlation Coefficient: 0.9969\n",
            "P-Value: 0.0000\n"
          ]
        }
      ]
    },
    {
      "cell_type": "code",
      "source": [
        "# Q3\n",
        "\n",
        "import numpy as np\n",
        "import pandas as pd\n",
        "from scipy.stats import pearsonr, spearmanr\n",
        "\n",
        "np.random.seed(42)\n",
        "exercise_hours = np.random.randint(1, 10, 50)\n",
        "bmi = np.random.uniform(18, 35, 50)\n",
        "\n",
        "df = pd.DataFrame({'Exercise_Hours': exercise_hours, 'BMI': bmi})\n",
        "\n",
        "pearson_corr, pearson_p = pearsonr(df['Exercise_Hours'], df['BMI'])\n",
        "\n",
        "spearman_corr, spearman_p = spearmanr(df['Exercise_Hours'], df['BMI'])\n",
        "\n",
        "print(f\"Pearson Correlation Coefficient: {pearson_corr:.4f}, P-Value: {pearson_p:.4f}\")\n",
        "print(f\"Spearman Correlation Coefficient: {spearman_corr:.4f}, P-Value: {spearman_p:.4f}\")\n"
      ],
      "metadata": {
        "colab": {
          "base_uri": "https://localhost:8080/"
        },
        "id": "jRWIxflOT-4q",
        "outputId": "1c1d4a3e-d01f-4499-a36d-79abb4bcaf8e"
      },
      "execution_count": 3,
      "outputs": [
        {
          "output_type": "stream",
          "name": "stdout",
          "text": [
            "Pearson Correlation Coefficient: -0.2359, P-Value: 0.0991\n",
            "Spearman Correlation Coefficient: -0.2394, P-Value: 0.0941\n"
          ]
        }
      ]
    },
    {
      "cell_type": "code",
      "source": [
        "# Q4\n",
        "\n",
        "\"\"\"\n",
        "Interpretation of Results:\n",
        "Pearson Correlation Coefficient (r) = -0.42\n",
        "\n",
        "This indicates a moderate negative linear relationship between TV hours and physical activity.\n",
        "\n",
        "As TV watching increases, physical activity decreases.\n",
        "\n",
        "P-Value = 0.0024\n",
        "\n",
        "Since p-value < 0.05, the correlation is statistically significant.\n",
        "\n",
        "This means that the negative relationship between TV watching and physical activity is unlikely due to chance.\n",
        "\"\"\""
      ],
      "metadata": {
        "id": "LKqQjtN5UYN5"
      },
      "execution_count": null,
      "outputs": []
    },
    {
      "cell_type": "code",
      "source": [
        "# Q5\n",
        "\n",
        "import pandas as pd\n",
        "from scipy.stats import chi2_contingency\n",
        "\n",
        "data = {'Age': [25, 42, 37, 19, 31, 28],\n",
        "        'Soft_Drink_Preference': ['Coke', 'Pepsi', 'Mountain Dew', 'Coke', 'Pepsi', 'Coke']}\n",
        "\n",
        "df = pd.DataFrame(data)\n",
        "\n",
        "contingency_table = pd.crosstab(df['Age'], df['Soft_Drink_Preference'])\n",
        "\n",
        "chi2, p, dof, expected = chi2_contingency(contingency_table)\n",
        "\n",
        "print(f\"Chi-Square Statistic: {chi2:.4f}\")\n",
        "print(f\"P-Value: {p:.4f}\")\n",
        "print(f\"Degrees of Freedom: {dof}\")\n",
        "print(\"Expected Frequencies:\\n\", expected)\n"
      ],
      "metadata": {
        "colab": {
          "base_uri": "https://localhost:8080/"
        },
        "id": "7zog9k3zVGpw",
        "outputId": "5f9919c0-4f8b-467e-bc86-6f1cfc8f6a2f"
      },
      "execution_count": 4,
      "outputs": [
        {
          "output_type": "stream",
          "name": "stdout",
          "text": [
            "Chi-Square Statistic: 12.0000\n",
            "P-Value: 0.2851\n",
            "Degrees of Freedom: 10\n",
            "Expected Frequencies:\n",
            " [[0.5        0.16666667 0.33333333]\n",
            " [0.5        0.16666667 0.33333333]\n",
            " [0.5        0.16666667 0.33333333]\n",
            " [0.5        0.16666667 0.33333333]\n",
            " [0.5        0.16666667 0.33333333]\n",
            " [0.5        0.16666667 0.33333333]]\n"
          ]
        }
      ]
    },
    {
      "cell_type": "code",
      "source": [
        "# Q6\n",
        "\n",
        "import numpy as np\n",
        "import pandas as pd\n",
        "import matplotlib.pyplot as plt\n",
        "import seaborn as sns\n",
        "from scipy.stats import pearsonr\n",
        "\n",
        "np.random.seed(42)\n",
        "\n",
        "sales_calls_per_day = np.random.randint(5, 31, 30)\n",
        "\n",
        "sales_per_week = sales_calls_per_day * np.random.uniform(0.8, 1.5, 30) + np.random.randint(-5, 5, 30)\n",
        "\n",
        "df = pd.DataFrame({'Sales_Calls_Per_Day': sales_calls_per_day, 'Sales_Per_Week': sales_per_week})\n",
        "\n",
        "pearson_corr, p_value = pearsonr(df['Sales_Calls_Per_Day'], df['Sales_Per_Week'])\n",
        "\n",
        "print(f\"Pearson Correlation Coefficient: {pearson_corr:.4f}\")\n",
        "print(f\"P-Value: {p_value:.4f}\")\n",
        "\n",
        "plt.figure(figsize=(8, 5))\n",
        "sns.regplot(x=df['Sales_Calls_Per_Day'], y=df['Sales_Per_Week'], scatter_kws={'color': 'blue'}, line_kws={'color': 'red'})\n",
        "\n",
        "plt.xlabel('Sales Calls Per Day')\n",
        "plt.ylabel('Sales Per Week')\n",
        "plt.title('Scatter Plot of Sales Calls vs. Sales Per Week')\n",
        "\n",
        "plt.show()"
      ],
      "metadata": {
        "colab": {
          "base_uri": "https://localhost:8080/",
          "height": 523
        },
        "id": "f8HJnEo6VGrv",
        "outputId": "b5b53c06-f6e7-4678-caec-142556abf142"
      },
      "execution_count": 5,
      "outputs": [
        {
          "output_type": "stream",
          "name": "stdout",
          "text": [
            "Pearson Correlation Coefficient: 0.8818\n",
            "P-Value: 0.0000\n"
          ]
        },
        {
          "output_type": "display_data",
          "data": {
            "text/plain": [
              "<Figure size 800x500 with 1 Axes>"
            ],
            "image/png": "[encoded data removed]"
          },
          "metadata": {}
        }
      ]
    },
    {
      "cell_type": "code",
      "source": [],
      "metadata": {
        "id": "ZRKUWxoCVGvL"
      },
      "execution_count": null,
      "outputs": []
    }
  ]
}