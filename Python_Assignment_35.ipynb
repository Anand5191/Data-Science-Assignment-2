{
  "nbformat": 4,
  "nbformat_minor": 0,
  "metadata": {
    "colab": {
      "provenance": []
    },
    "kernelspec": {
      "name": "python3",
      "display_name": "Python 3"
    },
    "language_info": {
      "name": "python"
    }
  },
  "cells": [
    {
      "cell_type": "code",
      "execution_count": 1,
      "metadata": {
        "colab": {
          "base_uri": "https://localhost:8080/"
        },
        "id": "2Czq3arhmFCf",
        "outputId": "23c822d9-5eaf-45e3-d52c-9347cbdca996"
      },
      "outputs": [
        {
          "output_type": "stream",
          "name": "stdout",
          "text": [
            "F-Statistic: 1.5412, P-Value: 0.2500\n",
            "Result: No significant difference in variances.\n"
          ]
        }
      ],
      "source": [
        "# Q1\n",
        "\n",
        "import numpy as np\n",
        "import scipy.stats as stats\n",
        "\n",
        "def f_test_variance(sample1, sample2):\n",
        "\n",
        "    var1 = np.var(sample1, ddof=1)\n",
        "    var2 = np.var(sample2, ddof=1)\n",
        "\n",
        "    if var1 > var2:\n",
        "        f_value = var1 / var2\n",
        "        df1, df2 = len(sample1) - 1, len(sample2) - 1\n",
        "    else:\n",
        "        f_value = var2 / var1\n",
        "        df1, df2 = len(sample2) - 1, len(sample1) - 1\n",
        "\n",
        "    p_value = 2 * (1 - stats.f.cdf(f_value, df1, df2))\n",
        "\n",
        "    return f_value, p_value\n",
        "\n",
        "np.random.seed(42)\n",
        "sample1 = np.random.normal(loc=50, scale=10, size=30)\n",
        "sample2 = np.random.normal(loc=52, scale=12, size=30)\n",
        "\n",
        "f_stat, p_val = f_test_variance(sample1, sample2)\n",
        "print(f\"F-Statistic: {f_stat:.4f}, P-Value: {p_val:.4f}\")\n",
        "\n",
        "alpha = 0.05\n",
        "if p_val < alpha:\n",
        "    print(\"Result: Variances are significantly different.\")\n",
        "else:\n",
        "    print(\"Result: No significant difference in variances.\")\n"
      ]
    },
    {
      "cell_type": "code",
      "source": [
        "# Q2\n",
        "\n",
        "import scipy.stats as stats\n",
        "\n",
        "def critical_f_value(alpha, df1, df2):\n",
        "    f_critical_high = stats.f.ppf(1 - alpha / 2, df1, df2)\n",
        "\n",
        "    f_critical_low = stats.f.ppf(alpha / 2, df1, df2)\n",
        "\n",
        "    return f_critical_low, f_critical_high\n",
        "\n",
        "alpha = 0.05\n",
        "df1 = 5\n",
        "df2 = 10\n",
        "\n",
        "low, high = critical_f_value(alpha, df1, df2)\n",
        "print(f\"Lower Critical F-Value: {low:.4f}\")\n",
        "print(f\"Upper Critical F-Value: {high:.4f}\")\n"
      ],
      "metadata": {
        "colab": {
          "base_uri": "https://localhost:8080/"
        },
        "id": "iSf4b3NZmfQ5",
        "outputId": "71ed05cb-8f7d-41a2-b908-af82f117e5a8"
      },
      "execution_count": 2,
      "outputs": [
        {
          "output_type": "stream",
          "name": "stdout",
          "text": [
            "Lower Critical F-Value: 0.1511\n",
            "Upper Critical F-Value: 4.2361\n"
          ]
        }
      ]
    },
    {
      "cell_type": "code",
      "source": [
        "# Q3\n",
        "\n",
        "import numpy as np\n",
        "import scipy.stats as stats\n",
        "\n",
        "def f_test_for_variances(n1, mean1, var1, n2, mean2, var2, alpha=0.05):\n",
        "    sample1 = np.random.normal(loc=mean1, scale=np.sqrt(var1), size=n1)\n",
        "    sample2 = np.random.normal(loc=mean2, scale=np.sqrt(var2), size=n2)\n",
        "\n",
        "    s1_sq = np.var(sample1, ddof=1)\n",
        "    s2_sq = np.var(sample2, ddof=1)\n",
        "\n",
        "    if s1_sq > s2_sq:\n",
        "        F = s1_sq / s2_sq\n",
        "        df1, df2 = n1 - 1, n2 - 1\n",
        "    else:\n",
        "        F = s2_sq / s1_sq\n",
        "        df1, df2 = n2 - 1, n1 - 1\n",
        "\n",
        "    p_value = 2 * (1 - stats.f.cdf(F, df1, df2))\n",
        "\n",
        "    print(f\"F-Statistic: {F:.4f}\")\n",
        "    print(f\"Degrees of Freedom: ({df1}, {df2})\")\n",
        "    print(f\"P-Value: {p_value:.4f}\")\n",
        "\n",
        "    if p_value < alpha:\n",
        "        print(\"Result: The variances are significantly different (Reject H₀).\")\n",
        "    else:\n",
        "        print(\"Result: No significant difference in variances (Fail to reject H₀).\")\n",
        "\n",
        "np.random.seed(42)\n",
        "f_test_for_variances(n1=30, mean1=50, var1=10, n2=30, mean2=52, var2=12)\n"
      ],
      "metadata": {
        "colab": {
          "base_uri": "https://localhost:8080/"
        },
        "id": "ZmIRiMGmmzZw",
        "outputId": "6277422a-ec7a-4d43-b75f-7bc5031af97b"
      },
      "execution_count": 6,
      "outputs": [
        {
          "output_type": "stream",
          "name": "stdout",
          "text": [
            "F-Statistic: 1.2844\n",
            "Degrees of Freedom: (29, 29)\n",
            "P-Value: 0.5047\n",
            "Result: No significant difference in variances (Fail to reject H₀).\n"
          ]
        }
      ]
    },
    {
      "cell_type": "code",
      "source": [
        "# Q4\n",
        "\n",
        "import scipy.stats as stats\n",
        "\n",
        "var1 = 10\n",
        "var2 = 15\n",
        "n1 = 12\n",
        "n2 = 12\n",
        "alpha = 0.05\n",
        "\n",
        "F_stat = var2 / var1 if var2 > var1 else var1 / var2\n",
        "df1 = n1 - 1\n",
        "df2 = n2 - 1\n",
        "\n",
        "F_critical_high = stats.f.ppf(1 - alpha / 2, df1, df2)\n",
        "F_critical_low = stats.f.ppf(alpha / 2, df1, df2)\n",
        "\n",
        "p_value = 2 * (1 - stats.f.cdf(F_stat, df1, df2))\n",
        "\n",
        "print(f\"F-Statistic: {F_stat:.4f}\")\n",
        "print(f\"Degrees of Freedom: ({df1}, {df2})\")\n",
        "print(f\"Critical F-Values: ({F_critical_low:.4f}, {F_critical_high:.4f})\")\n",
        "print(f\"P-Value: {p_value:.4f}\")\n",
        "\n",
        "if F_stat < F_critical_low or F_stat > F_critical_high:\n",
        "    print(\"Result: The variances are significantly different (Reject H₀).\")\n",
        "else:\n",
        "    print(\"Result: No significant difference in variances (Fail to reject H₀).\")\n"
      ],
      "metadata": {
        "colab": {
          "base_uri": "https://localhost:8080/"
        },
        "id": "RFVAR4annIqy",
        "outputId": "136cb089-ade2-4b9c-f772-a9e76c5f8b7e"
      },
      "execution_count": 7,
      "outputs": [
        {
          "output_type": "stream",
          "name": "stdout",
          "text": [
            "F-Statistic: 1.5000\n",
            "Degrees of Freedom: (11, 11)\n",
            "Critical F-Values: (0.2879, 3.4737)\n",
            "P-Value: 0.5124\n",
            "Result: No significant difference in variances (Fail to reject H₀).\n"
          ]
        }
      ]
    },
    {
      "cell_type": "code",
      "source": [
        "# Q5\n",
        "\n",
        "import scipy.stats as stats\n",
        "\n",
        "sample_variance = 0.006\n",
        "claimed_variance = 0.005\n",
        "n = 25\n",
        "alpha = 0.01\n",
        "\n",
        "F_stat = sample_variance / claimed_variance\n",
        "df1 = n - 1\n",
        "\n",
        "F_critical = stats.f.ppf(1 - alpha, df1, df1)\n",
        "\n",
        "p_value = 1 - stats.f.cdf(F_stat, df1, df1)\n",
        "\n",
        "print(f\"F-Statistic: {F_stat:.4f}\")\n",
        "print(f\"Degrees of Freedom: ({df1})\")\n",
        "print(f\"Critical F-Value: {F_critical:.4f}\")\n",
        "print(f\"P-Value: {p_value:.4f}\")\n",
        "\n",
        "if F_stat > F_critical:\n",
        "    print(\"Result: The variance is significantly greater than claimed (Reject H₀).\")\n",
        "else:\n",
        "    print(\"Result: No significant difference in variance (Fail to reject H₀).\")\n"
      ],
      "metadata": {
        "colab": {
          "base_uri": "https://localhost:8080/"
        },
        "id": "R5wTjGe0n5q2",
        "outputId": "68e5aad2-e19c-4a50-d38a-7c024cd62349"
      },
      "execution_count": 8,
      "outputs": [
        {
          "output_type": "stream",
          "name": "stdout",
          "text": [
            "F-Statistic: 1.2000\n",
            "Degrees of Freedom: (24)\n",
            "Critical F-Value: 2.6591\n",
            "P-Value: 0.3294\n",
            "Result: No significant difference in variance (Fail to reject H₀).\n"
          ]
        }
      ]
    },
    {
      "cell_type": "code",
      "source": [
        "# Q6\n",
        "\n",
        "def f_distribution_mean_variance(df1, df2):\n",
        "\n",
        "    if df2 > 2:\n",
        "        mean = df2 / (df2 - 2)\n",
        "    else:\n",
        "        mean = float('inf')\n",
        "\n",
        "    if df2 > 4:\n",
        "        variance = (2 * (df2 ** 2) * (df1 + df2 - 2)) / (df1 * (df2 - 2) ** 2 * (df2 - 4))\n",
        "    else:\n",
        "        variance = float('inf')\n",
        "\n",
        "    return mean, variance\n",
        "\n",
        "df1, df2 = 5, 10\n",
        "mean, variance = f_distribution_mean_variance(df1, df2)\n",
        "print(f\"Mean: {mean:.4f}, Variance: {variance:.4f}\")\n"
      ],
      "metadata": {
        "colab": {
          "base_uri": "https://localhost:8080/"
        },
        "id": "-Mx8nAQPoPPz",
        "outputId": "2a3603ae-33df-46c3-9f9e-68e350c6a439"
      },
      "execution_count": 9,
      "outputs": [
        {
          "output_type": "stream",
          "name": "stdout",
          "text": [
            "Mean: 1.2500, Variance: 1.3542\n"
          ]
        }
      ]
    },
    {
      "cell_type": "code",
      "source": [
        "# Q7\n",
        "\n",
        "import scipy.stats as stats\n",
        "\n",
        "var1 = 25\n",
        "var2 = 20\n",
        "n1 = 10\n",
        "n2 = 15\n",
        "alpha = 0.10\n",
        "\n",
        "F_stat = var1 / var2 if var1 > var2 else var2 / var1\n",
        "df1 = n1 - 1\n",
        "df2 = n2 - 1\n",
        "\n",
        "F_critical_high = stats.f.ppf(1 - alpha / 2, df1, df2)\n",
        "F_critical_low = stats.f.ppf(alpha / 2, df1, df2)\n",
        "\n",
        "p_value = 2 * (1 - stats.f.cdf(F_stat, df1, df2))\n",
        "\n",
        "print(f\"F-Statistic: {F_stat:.4f}\")\n",
        "print(f\"Degrees of Freedom: ({df1}, {df2})\")\n",
        "print(f\"Critical F-Values: ({F_critical_low:.4f}, {F_critical_high:.4f})\")\n",
        "print(f\"P-Value: {p_value:.4f}\")\n",
        "\n",
        "if F_stat < F_critical_low or F_stat > F_critical_high:\n",
        "    print(\"Result: The variances are significantly different (Reject H₀).\")\n",
        "else:\n",
        "    print(\"Result: No significant difference in variances (Fail to reject H₀).\")\n"
      ],
      "metadata": {
        "colab": {
          "base_uri": "https://localhost:8080/"
        },
        "id": "E0JVpSwcoliu",
        "outputId": "9a2002f8-4c1f-4fb3-a33d-2926091912cd"
      },
      "execution_count": 10,
      "outputs": [
        {
          "output_type": "stream",
          "name": "stdout",
          "text": [
            "F-Statistic: 1.2500\n",
            "Degrees of Freedom: (9, 14)\n",
            "Critical F-Values: (0.3305, 2.6458)\n",
            "P-Value: 0.6832\n",
            "Result: No significant difference in variances (Fail to reject H₀).\n"
          ]
        }
      ]
    },
    {
      "cell_type": "code",
      "source": [
        "# Q8\n",
        "\n",
        "import numpy as np\n",
        "import scipy.stats as stats\n",
        "\n",
        "restaurant_A = np.array([24, 25, 28, 23, 22, 20, 27])\n",
        "restaurant_B = np.array([31, 33, 35, 30, 32, 36])\n",
        "\n",
        "var_A = np.var(restaurant_A, ddof=1)\n",
        "var_B = np.var(restaurant_B, ddof=1)\n",
        "\n",
        "if var_A > var_B:\n",
        "    F_stat = var_A / var_B\n",
        "    df1, df2 = len(restaurant_A) - 1, len(restaurant_B) - 1\n",
        "else:\n",
        "    F_stat = var_B / var_A\n",
        "    df1, df2 = len(restaurant_B) - 1, len(restaurant_A) - 1\n",
        "\n",
        "alpha = 0.05\n",
        "F_critical_high = stats.f.ppf(1 - alpha / 2, df1, df2)\n",
        "F_critical_low = stats.f.ppf(alpha / 2, df1, df2)\n",
        "\n",
        "p_value = 2 * (1 - stats.f.cdf(F_stat, df1, df2))\n",
        "\n",
        "print(f\"Sample Variance (A): {var_A:.4f}\")\n",
        "print(f\"Sample Variance (B): {var_B:.4f}\")\n",
        "print(f\"F-Statistic: {F_stat:.4f}\")\n",
        "print(f\"Degrees of Freedom: ({df1}, {df2})\")\n",
        "print(f\"Critical F-Values: ({F_critical_low:.4f}, {F_critical_high:.4f})\")\n",
        "print(f\"P-Value: {p_value:.4f}\")\n",
        "\n",
        "if F_stat < F_critical_low or F_stat > F_critical_high:\n",
        "    print(\"Result: The variances are significantly different (Reject H₀).\")\n",
        "else:\n",
        "    print(\"Result: No significant difference in variances (Fail to reject H₀).\")\n"
      ],
      "metadata": {
        "colab": {
          "base_uri": "https://localhost:8080/"
        },
        "id": "k3C_i0USpIgC",
        "outputId": "eb8110d0-3723-4dc3-8f2c-52ad7c22ac06"
      },
      "execution_count": 11,
      "outputs": [
        {
          "output_type": "stream",
          "name": "stdout",
          "text": [
            "Sample Variance (A): 7.8095\n",
            "Sample Variance (B): 5.3667\n",
            "F-Statistic: 1.4552\n",
            "Degrees of Freedom: (6, 5)\n",
            "Critical F-Values: (0.1670, 6.9777)\n",
            "P-Value: 0.6975\n",
            "Result: No significant difference in variances (Fail to reject H₀).\n"
          ]
        }
      ]
    },
    {
      "cell_type": "code",
      "source": [
        "# Q9\n",
        "\n",
        "import numpy as np\n",
        "import scipy.stats as stats\n",
        "\n",
        "group_A = np.array([80, 85, 90, 92, 87, 83])\n",
        "group_B = np.array([75, 78, 82, 79, 81, 84])\n",
        "\n",
        "var_A = np.var(group_A, ddof=1)\n",
        "var_B = np.var(group_B, ddof=1)\n",
        "\n",
        "if var_A > var_B:\n",
        "    F_stat = var_A / var_B\n",
        "    df1, df2 = len(group_A) - 1, len(group_B) - 1\n",
        "else:\n",
        "    F_stat = var_B / var_A\n",
        "    df1, df2 = len(group_B) - 1, len(group_A) - 1\n",
        "\n",
        "alpha = 0.01\n",
        "F_critical_high = stats.f.ppf(1 - alpha / 2, df1, df2)\n",
        "F_critical_low = stats.f.ppf(alpha / 2, df1, df2)\n",
        "\n",
        "p_value = 2 * (1 - stats.f.cdf(F_stat, df1, df2))\n",
        "\n",
        "print(f\"Sample Variance (Group A): {var_A:.4f}\")\n",
        "print(f\"Sample Variance (Group B): {var_B:.4f}\")\n",
        "print(f\"F-Statistic: {F_stat:.4f}\")\n",
        "print(f\"Degrees of Freedom: ({df1}, {df2})\")\n",
        "print(f\"Critical F-Values: ({F_critical_low:.4f}, {F_critical_high:.4f})\")\n",
        "print(f\"P-Value: {p_value:.4f}\")\n",
        "\n",
        "if F_stat < F_critical_low or F_stat > F_critical_high:\n",
        "    print(\"Result: The variances are significantly different (Reject H₀).\")\n",
        "else:\n",
        "    print(\"Result: No significant difference in variances (Fail to reject H₀).\")\n"
      ],
      "metadata": {
        "colab": {
          "base_uri": "https://localhost:8080/"
        },
        "id": "D0XsLpxUpnQU",
        "outputId": "9b2741ca-24e8-471c-cf8f-600fbae0b8e6"
      },
      "execution_count": 12,
      "outputs": [
        {
          "output_type": "stream",
          "name": "stdout",
          "text": [
            "Sample Variance (Group A): 19.7667\n",
            "Sample Variance (Group B): 10.1667\n",
            "F-Statistic: 1.9443\n",
            "Degrees of Freedom: (5, 5)\n",
            "Critical F-Values: (0.0669, 14.9396)\n",
            "P-Value: 0.4831\n",
            "Result: No significant difference in variances (Fail to reject H₀).\n"
          ]
        }
      ]
    },
    {
      "cell_type": "code",
      "source": [],
      "metadata": {
        "id": "X2TbffEyp6uE"
      },
      "execution_count": null,
      "outputs": []
    }
  ]
}