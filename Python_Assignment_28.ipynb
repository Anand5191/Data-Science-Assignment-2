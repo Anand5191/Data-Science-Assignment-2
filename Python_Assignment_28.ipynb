{
  "nbformat": 4,
  "nbformat_minor": 0,
  "metadata": {
    "colab": {
      "provenance": []
    },
    "kernelspec": {
      "name": "python3",
      "display_name": "Python 3"
    },
    "language_info": {
      "name": "python"
    }
  },
  "cells": [
    {
      "cell_type": "code",
      "execution_count": null,
      "metadata": {
        "id": "gviYoqLvVEHO"
      },
      "outputs": [],
      "source": [
        "# Q1\n",
        "\n",
        "\"\"\" Measures of Central Tendency : Measures of central tendency are statistical tools used to summarize a set of data by identifying the central point or typical value\n",
        "within that dataset. These measures help describe the overall distribution and provide insights into where most data points cluster. There are three primary measures of\n",
        "central tendency, each with its own method of calculation and application.\n",
        "\n",
        "1. Mean\n",
        "The mean is commonly referred to as the “average.” It is calculated by summing all the values in a dataset and dividing by the total number of values.\n",
        "The formula for the mean is: (mean) = (Σx) / n\n",
        "\n",
        "Where:\n",
        "\n",
        "Σx represents the sum of all data points.\n",
        "n is the total number of data points.\n",
        "The mean is sensitive to extreme values (outliers), which can skew its value significantly in datasets with large variations.\n",
        "\n",
        "2. Median\n",
        "The median is the middle value in an ordered dataset (i.e., sorted from smallest to largest). If there is an odd number of observations, the median is the single middle value.\n",
        " If there is an even number, it is calculated as the average of the two middle values.\n",
        "\n",
        "The median provides a better measure of central tendency than the mean when dealing with skewed distributions or datasets with outliers because it focuses on positional value\n",
        "rather than magnitude.\n",
        "\n",
        "3. Mode\n",
        "The mode represents the most frequently occurring value(s) in a dataset. A dataset may have one mode (unimodal), more than one mode (bimodal or multimodal), or no mode at all\n",
        "if all values occur with equal frequency.\n",
        "\n",
        "The mode is particularly useful for categorical data where calculating a mean or median may not be meaningful (e.g., survey responses like “yes,” “no,” “maybe”). \"\"\""
      ]
    },
    {
      "cell_type": "code",
      "source": [
        "# Q2\n",
        "\n",
        "\"\"\" Mean\n",
        "The mean, often referred to as the average, is calculated by summing all the values in a dataset and then dividing by the number of values. Mathematically, it can be expressed as:\n",
        "Mean = ∑^ni = 1^xi/n where xi\n",
        " represents each value in the dataset and n is the total number of values.\n",
        "\n",
        "Characteristics of Mean\n",
        "Sensitivity to Outliers: The mean is sensitive to extreme values (outliers). For example, in a dataset consisting of incomes where most individuals earn between\n",
        "30,000 and 50,000 but one individual earns 1 million, the mean income will be skewed upwards.\n",
        "\n",
        "Applicability: The mean is appropriate for interval and ratio data but not for ordinal or nominal data.\n",
        "Usage\n",
        "The mean is widely used in various fields such as economics, psychology, and social sciences to summarize data points into a single representative figure. It provides a useful\n",
        "measure when comparing different datasets or populations.\n",
        "\n",
        "Median\n",
        "The median is defined as the middle value in a dataset when it has been arranged in ascending or descending order. If there is an even number of observations, the median is\n",
        "calculated by taking the average of the two middle numbers.\n",
        "\n",
        "Characteristics of Median\n",
        "Robustness to Outliers: Unlike the mean, the median is not affected by outliers. This makes it a more reliable measure of central tendency for skewed distributions.\n",
        "Applicability: The median can be used with ordinal data (where order matters but not magnitude) as well as interval and ratio data.\n",
        "Usage\n",
        "The median is particularly useful in real estate markets (e.g., median home prices), income distributions (e.g., median household income), and other areas where extreme values\n",
        "may distort perceptions about typical values.\n",
        "\n",
        "Mode\n",
        "The mode refers to the value that appears most frequently in a dataset. A dataset may have one mode (unimodal), more than one mode (bimodal or multimodal), or no mode at all if\n",
        "no number repeats.\n",
        "\n",
        "Characteristics of Mode\n",
        "Simplicity: The mode is straightforward to identify and can be used with nominal data (categorical data without inherent order).\n",
        "Multiple Modes: In datasets with multiple modes, it can provide insights into common occurrences within categories.\n",
        "Usage\n",
        "The mode is often employed in market research to determine popular products or preferences among consumers. It helps identify trends based on frequency rather than magnitude.\"\"\""
      ],
      "metadata": {
        "id": "DN8ScLykWiP1"
      },
      "execution_count": null,
      "outputs": []
    },
    {
      "cell_type": "code",
      "source": [
        "# Q3\n",
        "\n",
        "import numpy as np\n",
        "from scipy import stats\n",
        "\n",
        "heights = [178, 177, 176, 177, 178.2, 178, 175, 179, 180, 175,\n",
        "           178.9, 176.2, 177, 172.5, 178, 176.5]\n",
        "\n",
        "mean_height = np.mean(heights)\n",
        "\n",
        "median_height = np.median(heights)\n",
        "\n",
        "mode_height = stats.mode(heights).mode[0]\n",
        "\n",
        "print(\"Mean:\", mean_height)\n",
        "print(\"Median:\", median_height)\n",
        "print(\"Mode:\", mode_height)\n"
      ],
      "metadata": {
        "colab": {
          "base_uri": "https://localhost:8080/",
          "height": 219
        },
        "id": "gPcezKK4WiTR",
        "outputId": "b431c5ff-4413-4875-bc38-3ba659ddccd0"
      },
      "execution_count": null,
      "outputs": [
        {
          "output_type": "error",
          "ename": "IndexError",
          "evalue": "invalid index to scalar variable.",
          "traceback": [
            "\u001b[0;31m---------------------------------------------------------------------------\u001b[0m",
            "\u001b[0;31mIndexError\u001b[0m                                Traceback (most recent call last)",
            "\u001b[0;32m<ipython-input-2-1b5e69af4eaf>\u001b[0m in \u001b[0;36m<cell line: 0>\u001b[0;34m()\u001b[0m\n\u001b[1;32m     11\u001b[0m \u001b[0mmedian_height\u001b[0m \u001b[0;34m=\u001b[0m \u001b[0mnp\u001b[0m\u001b[0;34m.\u001b[0m\u001b[0mmedian\u001b[0m\u001b[0;34m(\u001b[0m\u001b[0mheights\u001b[0m\u001b[0;34m)\u001b[0m\u001b[0;34m\u001b[0m\u001b[0;34m\u001b[0m\u001b[0m\n\u001b[1;32m     12\u001b[0m \u001b[0;34m\u001b[0m\u001b[0m\n\u001b[0;32m---> 13\u001b[0;31m \u001b[0mmode_height\u001b[0m \u001b[0;34m=\u001b[0m \u001b[0mstats\u001b[0m\u001b[0;34m.\u001b[0m\u001b[0mmode\u001b[0m\u001b[0;34m(\u001b[0m\u001b[0mheights\u001b[0m\u001b[0;34m)\u001b[0m\u001b[0;34m.\u001b[0m\u001b[0mmode\u001b[0m\u001b[0;34m[\u001b[0m\u001b[0;36m0\u001b[0m\u001b[0;34m]\u001b[0m\u001b[0;34m\u001b[0m\u001b[0;34m\u001b[0m\u001b[0m\n\u001b[0m\u001b[1;32m     14\u001b[0m \u001b[0;34m\u001b[0m\u001b[0m\n\u001b[1;32m     15\u001b[0m \u001b[0mprint\u001b[0m\u001b[0;34m(\u001b[0m\u001b[0;34m\"Mean:\"\u001b[0m\u001b[0;34m,\u001b[0m \u001b[0mmean_height\u001b[0m\u001b[0;34m)\u001b[0m\u001b[0;34m\u001b[0m\u001b[0;34m\u001b[0m\u001b[0m\n",
            "\u001b[0;31mIndexError\u001b[0m: invalid index to scalar variable."
          ]
        }
      ]
    },
    {
      "cell_type": "code",
      "source": [
        "# Q4\n",
        "\n",
        "import numpy as np\n",
        "\n",
        "heights = [178, 177, 176, 177, 178.2, 178, 175, 179, 180, 175,\n",
        "           178.9, 176.2, 177, 172.5, 178, 176.5]\n",
        "\n",
        "std_dev = np.std(heights, ddof=0)\n",
        "\n",
        "print(\"Standard Deviation:\", std_dev)\n",
        "\n"
      ],
      "metadata": {
        "colab": {
          "base_uri": "https://localhost:8080/"
        },
        "id": "L3RMrJdQY3hg",
        "outputId": "4d30bba7-53d8-4111-8d77-bf458435a0a7"
      },
      "execution_count": null,
      "outputs": [
        {
          "output_type": "stream",
          "name": "stdout",
          "text": [
            "Standard Deviation: 1.7885814036548633\n"
          ]
        }
      ]
    },
    {
      "cell_type": "code",
      "source": [
        "# Q5\n",
        "\n",
        "import numpy as np\n",
        "\n",
        "data = [178, 177, 176, 177, 178.2, 178, 175, 179, 180, 175,\n",
        "        178.9, 176.2, 177, 172.5, 178, 176.5]\n",
        "\n",
        "data_range = max(data) - min(data)\n",
        "\n",
        "variance = np.var(data, ddof=0)\n",
        "\n",
        "std_dev = np.std(data, ddof=0)\n",
        "\n",
        "print(\"Range:\", data_range)\n",
        "print(\"Variance:\", variance)\n",
        "print(\"Standard Deviation:\", std_dev)\n"
      ],
      "metadata": {
        "colab": {
          "base_uri": "https://localhost:8080/"
        },
        "id": "nrr1J7bfZW1B",
        "outputId": "f270ccc3-5870-414b-b9c6-430302f484b4"
      },
      "execution_count": null,
      "outputs": [
        {
          "output_type": "stream",
          "name": "stdout",
          "text": [
            "Range: 7.5\n",
            "Variance: 3.199023437500001\n",
            "Standard Deviation: 1.7885814036548633\n"
          ]
        }
      ]
    },
    {
      "cell_type": "code",
      "source": [
        "# Q6\n",
        "\n",
        "\"\"\" Structure of a Venn Diagram\n",
        "Typically, a Venn diagram consists of overlapping circles or other shapes. Each circle represents a set, and the areas where the circles overlap indicate the elements that are common to those sets. For example:\n",
        "\n",
        "Single Circle: Represents a single set.\n",
        "Two Circles: When two circles overlap, they represent two sets with some elements in common (the intersection) and some that are unique to each set.\n",
        "Three or More Circles: As more circles are added, the complexity increases. The intersections can show multiple relationships among three or more sets.\n",
        "Basic Components\n",
        "Sets: Each circle corresponds to a specific set.\n",
        "Elements: Items or members contained within each set.\n",
        "Intersection: The area where two or more circles overlap represents shared elements between those sets.\n",
        "Union: The total area covered by all circles combined represents the union of all sets involved.\n",
        "Applications\n",
        "Venn diagrams have diverse applications across various domains:\n",
        "\n",
        "Mathematics: Used for solving problems related to set theory, probability, and logic.\n",
        "Statistics: Helps visualize data distributions and relationships among different groups.\n",
        "Logic: Aids in understanding logical propositions and their interrelations.\n",
        "Education: Frequently utilized as teaching tools to help students grasp concepts related to classification and comparison.\n",
        "Example\n",
        "Consider two sets:\n",
        "\n",
        "Set A = {1, 2, 3}\n",
        "Set B = {2, 3, 4}\n",
        "In a Venn diagram:\n",
        "\n",
        "Circle A would contain 1 (unique to Set A).\n",
        "Circle B would contain 4 (unique to Set B).\n",
        "The overlapping area would contain 2 and 3 (elements common to both sets).\n",
        "This visual representation allows for quick comprehension of how these sets relate to one another. \"\"\""
      ],
      "metadata": {
        "id": "y-Uzym4aZ1hO"
      },
      "execution_count": null,
      "outputs": []
    },
    {
      "cell_type": "code",
      "source": [
        "# Q7\n",
        "\n",
        "A = {2, 3, 4, 5, 6, 7}\n",
        "B = {0, 2, 6, 8, 10}\n",
        "\n",
        "intersection = A & B\n",
        "union = A | B\n",
        "\n",
        "print(\"A ∩ B:\", intersection)\n",
        "print(\"A ∪ B:\", union)\n"
      ],
      "metadata": {
        "colab": {
          "base_uri": "https://localhost:8080/"
        },
        "id": "Hrc_pVuGarLj",
        "outputId": "43fd8756-039a-46e5-a0f8-997bc0d565cf"
      },
      "execution_count": null,
      "outputs": [
        {
          "output_type": "stream",
          "name": "stdout",
          "text": [
            "A ∩ B: {2, 6}\n",
            "A ∪ B: {0, 2, 3, 4, 5, 6, 7, 8, 10}\n"
          ]
        }
      ]
    },
    {
      "cell_type": "code",
      "source": [
        "# Q8\n",
        "\n",
        "\"\"\" Understanding Skewness in Data\n",
        "Skewness is a statistical measure that quantifies the asymmetry of a probability distribution about its mean. It provides insight into the shape and nature of data distributions,\n",
        "which is crucial for various fields such as finance, economics, and data analysis.\n",
        "\n",
        "Types of Skewness\n",
        "Positive Skewness (Right Skew): In a positively skewed distribution, the tail on the right side is longer or fatter than the left side. This indicates that most data points are\n",
        "concentrated on the left side of the distribution, with some extreme values on the right. In this case, the mean is typically greater than the median, which is greater than the\n",
        "mode (Mean > Median > Mode). Examples include income distributions where a few individuals earn significantly more than others.\n",
        "\n",
        "Negative Skewness (Left Skew): Conversely, in a negatively skewed distribution, the tail on the left side is longer or fatter than that on the right. This suggests that most data\n",
        "points are clustered on the right side of the distribution with some extreme low values on the left. Here, the mean is usually less than the median, which is less than the\n",
        "mode (Mean < Median < Mode). An example can be seen in test scores where most students perform well but a few score very low.\n",
        "\n",
        "Zero Skewness: A distribution with zero skewness is perfectly symmetrical around its mean. In such cases, all three measures of central tendency—mean, median, and mode—are equal.\n",
        "\n",
        "Importance of Measuring Skewness\n",
        "Understanding skewness helps analysts make informed decisions regarding data interpretation and statistical modeling. For instance:\n",
        "\n",
        "Statistical Tests: Many statistical tests assume normality; thus, knowing whether data is skewed can influence model selection.\n",
        "Outlier Detection: Extreme values can significantly affect skewness; identifying these outliers can lead to better data quality.\n",
        "Data Transformation: If data exhibits significant skewness, transformations may be necessary to stabilize variance and meet assumptions for parametric tests. \"\"\"\n"
      ],
      "metadata": {
        "id": "0vRgIiEearPG"
      },
      "execution_count": null,
      "outputs": []
    },
    {
      "cell_type": "code",
      "source": [
        "# Q9\n",
        "\n",
        "\"\"\" Understanding Right Skewness and the Relationship Between Mean and Median\n",
        "In statistics, the distribution of data can take various shapes, one of which is skewness. When a dataset is described as “right skewed” (or positively skewed), it indicates that the tail on the right side of the distribution is longer or fatter than the left side. This characteristic has significant implications for measures of central tendency, particularly the mean and median.\n",
        "\n",
        "Characteristics of Right-Skewed Distributions\n",
        "Definition: A right-skewed distribution is one where most of the data points cluster towards the lower end of the range, with a few higher values stretching out to the right. This results in a distribution that is not symmetrical.\n",
        "\n",
        "Visual Representation: In graphical terms, a right-skewed distribution typically appears as a histogram or density plot where there are more observations on the left side and fewer on the right. The peak of this distribution will be closer to the lower values.\n",
        "\n",
        "Quantitative Measures:\n",
        "\n",
        "Mean: The mean is calculated by summing all data points and dividing by their count. In a right-skewed distribution, this average tends to be pulled in the direction of higher values due to extreme high outliers.\n",
        "Median: The median represents the middle value when all observations are ordered from least to greatest. It divides the dataset into two equal halves.\n",
        "Position of Median with Respect to Mean\n",
        "In a right-skewed distribution, it is generally observed that:\n",
        "\n",
        "The mean will be greater than the median. This relationship arises because:\n",
        "The presence of high-value outliers increases the mean more significantly than it affects the median.\n",
        "Since most data points are concentrated on the lower end, while only a few extend into higher ranges, these extreme values disproportionately influence the mean. \"\"\"\n"
      ],
      "metadata": {
        "id": "N44Jh2r0bN9n"
      },
      "execution_count": null,
      "outputs": []
    },
    {
      "cell_type": "code",
      "source": [
        "# Q10\n",
        "\n",
        "\"\"\" Difference Between Covariance and Correlation\n",
        "Covariance and correlation are both statistical measures that describe the relationship between two variables. However, they differ significantly in their definitions,\n",
        "calculations, interpretations, and applications.\n",
        "\n",
        "Covariance\n",
        "Definition\n",
        "Covariance is a measure of how much two random variables change together. It indicates the direction of the linear relationship between the variables. If both variables tend\n",
        "to increase or decrease together, the covariance is positive; if one variable increases while the other decreases, the covariance is negative.\n",
        "\n",
        "Interpretation\n",
        "Covariance values can range from negative infinity to positive infinity. A positive covariance indicates that as one variable increases, so does the other, while a negative value indicates an inverse relationship. However, because covariance is not standardized, its magnitude can be difficult to interpret without context regarding the units of measurement.\n",
        "\n",
        "Correlation\n",
        "Definition\n",
        "Correlation measures both the strength and direction of a linear relationship between two variables. Unlike covariance, correlation provides a standardized measure that allows for easier interpretation.\n",
        "\n",
        "Interpretation\n",
        "Correlation values range from -1 to +1. A value of +1 indicates a perfect positive linear relationship, -1 indicates a perfect negative linear relationship, and 0 indicates no linear relationship at all. This standardization makes correlation more interpretable than covariance.\n",
        "\n",
        "Applications in Statistical Analysis\n",
        "Both covariance and correlation are widely used in statistical analysis for various purposes:\n",
        "\n",
        "Feature Selection: In data preprocessing for machine learning models, analysts use these measures to identify which features (variables) have strong relationships with target outcomes.\n",
        "\n",
        "Principal Component Analysis (PCA): Both metrics help reduce dimensionality in datasets by identifying principal components based on variance (covariance matrix) or standardized relationships (correlation matrix).\n",
        "\n",
        "Portfolio Management: In finance, covariance helps assess how different assets move together to optimize investment portfolios.\n",
        "\n",
        "Regression Analysis: Correlation coefficients inform analysts about potential predictors in regression models.\n",
        "\n",
        "Market Research: Businesses utilize these metrics to understand relationships between consumer behaviors or market trends."
      ],
      "metadata": {
        "id": "ClCFlaAfbOBH"
      },
      "execution_count": null,
      "outputs": []
    },
    {
      "cell_type": "code",
      "source": [
        "# Q11\n",
        "\n",
        "\"\"\"Formula for Sample Mean\n",
        "The sample mean (𝑋ˉXˉ) is the average of a subset (sample) of a population. It is calculated as:\n",
        "\n",
        "𝑋 = ∑𝑋𝑖/𝑛\n",
        "\n",
        "where:\n",
        "\n",
        "𝑋𝑖 = individual data points\n",
        "\n",
        "𝑛n = number of data points in the sample\n",
        "\n",
        "Example Calculation\n",
        "Given Dataset:\n",
        "Sample data: [10, 20, 30, 40, 50]\n",
        "\n",
        "Step-by-Step Calculation:\n",
        "Sum of values:\n",
        "\n",
        "10 + 20 + 30 + 40 + 50 = 150\n",
        "\n",
        "Number of values: n=5\n",
        "Compute sample mean: Xˉ= 150/5=30 \"\"\"\n"
      ],
      "metadata": {
        "id": "3ZPjuhN-bO00"
      },
      "execution_count": null,
      "outputs": []
    },
    {
      "cell_type": "code",
      "source": [
        "# Q12\n",
        "\n",
        "\"\"\" Relationship Between Measures of Central Tendency in a Normal Distribution\n",
        "In statistics, the normal distribution is a fundamental concept characterized by its bell-shaped curve, which is symmetric about the mean. The measures of central tendency—mean,\n",
        "median, and mode—are critical in summarizing data sets and understanding their distributions. In a normal distribution, these three measures are not only related but also equal to\n",
        " one another.\n",
        "\n",
        "Mean\n",
        "The mean is defined as the arithmetic average of a set of values. It is calculated by summing all the data points and dividing by the number of points. In a normal distribution,\n",
        " the mean serves as the center point around which the data are symmetrically distributed. This property ensures that half of the observations lie below the mean and half lie above\n",
        "  it.\n",
        "\n",
        "Median\n",
        "The median is the middle value when all observations are arranged in ascending order. If there is an even number of observations, it is computed as the average of the two middle\n",
        " values. In a perfectly normal distribution, because of its symmetry, the median coincides with the mean; thus, it divides the dataset into two equal halves.\n",
        "\n",
        "Mode\n",
        "The mode refers to the value that appears most frequently in a dataset. In a normal distribution, there is one peak (unimodal), meaning that there is one value that occurs more\n",
        " often than others. Due to this characteristic symmetry and unimodality of a normal distribution, the mode also aligns with both the mean and median.\"\"\""
      ],
      "metadata": {
        "id": "l45_a4EQhe5k"
      },
      "execution_count": null,
      "outputs": []
    },
    {
      "cell_type": "code",
      "source": [
        "# Q13\n",
        "\n",
        "\"\"\" Understanding Covariance and Correlation\n",
        "Covariance and correlation are two fundamental concepts in statistics that describe the relationship between two variables. While they are related, they differ significantly in\n",
        "their definitions, interpretations, and applications.\n",
        "\n",
        "Definition of Covariance\n",
        "Covariance is a statistical measure that indicates the extent to which two random variables change together. It is calculated as the average of the products of the deviations of\n",
        "each variable from their respective means. Mathematically, for two random variables X and Y.\n",
        "  A positive covariance indicates that as one variable increases, the other tends to increase.\n",
        "A negative covariance suggests that as one variable increases, the other tends to decrease.\n",
        "A covariance of zero implies no linear relationship between the variables.\n",
        "However, covariance does not provide a standardized measure; its value depends on the units of measurement of X and Y\n",
        "Therefore, it can be difficult to interpret directly without additional context. \"\"\"\n"
      ],
      "metadata": {
        "id": "gkX3jyBVhe86"
      },
      "execution_count": null,
      "outputs": []
    },
    {
      "cell_type": "code",
      "source": [
        "# Q14\n",
        "\"\"\" Outliers significantly affect measures of central tendency (mean, median, and mode) and dispersion (range, variance, and standard deviation).\n",
        "\n",
        "Effect on Measures of Central Tendency:\n",
        "Mean: Outliers have a strong impact on the mean because it is calculated by summing all values and dividing by the total count. A very high or very low outlier can pull the mean in its direction.\n",
        "\n",
        "Median: The median is less affected by outliers since it is the middle value when data is ordered. Unless the outlier changes the position of the median, its effect is minimal.\n",
        "\n",
        "Mode: The mode (most frequent value) is usually not affected by outliers unless the outlier appears frequently.\n",
        "\n",
        "Effect on Measures of Dispersion:\n",
        "Range: Outliers significantly increase the range, as it depends on the difference between the highest and lowest values.\n",
        "\n",
        "Variance and Standard Deviation: Since these are based on squared deviations from the mean, outliers can greatly inflate both variance and standard deviation.\n",
        "\n",
        "Example:\n",
        "Consider the dataset:\n",
        "Without an outlier: 10, 12, 14, 16, 18\n",
        "\n",
        "Mean = (10+12+14+16+18)/5 = 14\n",
        "\n",
        "Median = 14\n",
        "\n",
        "Range = 18 - 10 = 8\n",
        "\n",
        "Standard deviation = √8 (approximately 2.83)\n",
        "\n",
        "With an outlier (e.g., 50 added): 10, 12, 14, 16, 18, 50\n",
        "\n",
        "Mean = (10+12+14+16+18+50)/6 = 20 (increased)\n",
        "\n",
        "Median = (14+16)/2 = 15 (slight change)\n",
        "\n",
        "Range = 50 - 10 = 40 (significantly increased)\n",
        "\n",
        "Standard deviation increases significantly due to the large deviation of 50 from the mean.\"\"\""
      ],
      "metadata": {
        "id": "slrEhci9kBN9"
      },
      "execution_count": null,
      "outputs": []
    },
    {
      "cell_type": "code",
      "source": [],
      "metadata": {
        "id": "UCfIHPOjkLLJ"
      },
      "execution_count": null,
      "outputs": []
    },
    {
      "cell_type": "code",
      "source": [],
      "metadata": {
        "id": "2xD15Ps_kLOu"
      },
      "execution_count": null,
      "outputs": []
    }
  ]
}