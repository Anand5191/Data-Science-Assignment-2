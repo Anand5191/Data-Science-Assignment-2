{
  "nbformat": 4,
  "nbformat_minor": 0,
  "metadata": {
    "colab": {
      "provenance": []
    },
    "kernelspec": {
      "name": "python3",
      "display_name": "Python 3"
    },
    "language_info": {
      "name": "python"
    }
  },
  "cells": [
    {
      "cell_type": "code",
      "execution_count": null,
      "metadata": {
        "id": "kC-hMxg4KtKA"
      },
      "outputs": [],
      "source": [
        "# Q1\n",
        "\n",
        "\"\"\"Mathematical Formula for a Linear Support Vector Machine (SVM)\n",
        "Support Vector Machines (SVMs) are a class of supervised learning models used for classification and regression analysis. The linear SVM is one of the simplest forms of SVM,\n",
        "primarily used for binary classification tasks. The fundamental idea behind an SVM is to find the hyperplane that best separates the data into two classes.\n",
        "\n",
        "Core Concepts\n",
        "Hyperplane\n",
        "In an n-dimensional space, a hyperplane is a flat affine subspace of dimension n-1. For a two-dimensional space, this would be a line; in three dimensions, it would be a plane.\n",
        "The equation of a hyperplane can be expressed as:𝐰⋅𝐱+b=0\n",
        "where:𝐰 is the weight vector perpendicular to the hyperplane.𝐱 represents the input feature vector.b is the bias term or offset from the origin.\n",
        "Decision Function The decision function for classifying an input vector 𝐱 using a linear SVM can be written as:\n",
        "\n",
        "f(𝐱)=sign(𝐰⋅𝐱+b)\n",
        "This function determines on which side of the hyperplane the point lies. If\n",
        "f(𝐱)>0, then 𝐱 belongs to one class; if\n",
        "f(𝐱)<0, it belongs to another.\n",
        "\n",
        "Margin and Support Vectors\n",
        "The margin is defined as the distance between the closest data points (support vectors) and the hyperplane. A linear SVM aims to maximize this margin while correctly classifying all training data points. This leads to better generalization on unseen data.\n",
        "\n",
        "Optimization Problem\n",
        "The optimization problem for finding the optimal hyperplane involves maximizing this margin subject to certain constraints:\n",
        "\n",
        "Minimize:||𝐰||2/2 Subject to:yi(𝐰⋅𝐱i+b)≥1,i=1,...,n\n",
        "\n",
        "where:yi∈−1,1 are labels indicating class membership.||𝐰||2/2 is used instead of just ||𝐰||2 for mathematical convenience in quadratic programming.\n",
        "Lagrange Multipliers and Dual Problem To solve this constrained optimization problem, Lagrange multipliers are introduced. The dual form of this problem becomes:\n",
        "\n",
        "Maximize:LD(α)=∑i=1nαi−0.5∑i=1n∑j=1nαiαjyiyj(𝐱iT𝐱j)\n",
        "Subject to:0≤αi,i=1,...,n∑i=1nαiyi=0\n",
        "\n",
        "where:LD(α) is the dual objective function.\n",
        "( (\\alpha_1, ..., α_n)^\\top ) are non-negative Lagrange multipliers associated with each constraint.\n",
        "The solution provides values for these multipliers which help determine which training instances are support vectors (those with non-zero multipliers).\"\"\"\n"
      ]
    },
    {
      "cell_type": "code",
      "source": [
        "# Q2\n",
        "\n",
        "\"\"\"Objective Function of a Linear SVM\n",
        "The objective function of a linear Support Vector Machine (SVM) is central to understanding how SVMs operate in the realm of supervised machine learning, particularly for classification\n",
        "tasks. The linear SVM aims to find the optimal hyperplane that separates data points of different classes with the maximum margin. This involves both maximizing the margin between the\n",
        "classes and minimizing classification errors.\n",
        "\n",
        "Understanding Linear SVM\n",
        "A Support Vector Machine is a discriminative classifier formally defined by a separating hyperplane. In two-dimensional space, this hyperplane is simply a line dividing a plane into two\n",
        "parts where each class lies on either side. For higher dimensions, it becomes more complex but follows the same principle.\n",
        "\n",
        "Components of the Objective Function\n",
        "Hyperplane Definition:\n",
        "A hyperplane in an n-dimensional space can be defined as:w⋅x+b=0\n",
        "where w is the weight vector perpendicular to the hyperplane, x represents input features, and b is the bias term.\n",
        "Margin Maximization:\n",
        "The margin is defined as the distance between the closest data points (support vectors) from each class to the hyperplane.\n",
        "The goal of an SVM is to maximize this margin while correctly classifying all training data points.\n",
        "Mathematically, this translates to minimizing ||w||2, which indirectly maximizes 1||w||, representing the margin width.\n",
        "Objective Function Formulation:\n",
        "The primal form of the objective function for a hard-margin linear SVM (without considering misclassification) can be expressed as:\n",
        "min w,b12||w||2\n",
        "subject to constraints:yi(w⋅xi+b)≥1\n",
        "for all training samples i=1,...,N, where yi are labels (+1 or -1).\n",
        "Soft Margin Incorporation:\n",
        "In real-world scenarios, perfect separation may not be possible due to noise or overlapping classes; hence, soft margins are introduced using slack variables\n",
        " (ξi). - The modified objective function becomes:min w,b,ξ12 ||w||2+C∑i=1Nξi\n",
        "subject to: [ y_i(w \\cdot x_i + b) \\geq 1 - ξ_i ,\\quad ξ_i ≥ 0 ]\n",
        "Here, C>0\n",
        " is a regularization parameter that controls trade-off between maximizing margin and minimizing classification error.\n",
        "Dual Problem Formulation:\n",
        "Solving SVMs often involves converting this primal problem into its dual form using Lagrange multipliers because it simplifies computation when dealing with high-dimensional spaces.\n",
        "The dual problem focuses on finding Lagrange multipliers (\n",
        "α\n",
        "i\n",
        ") that satisfy certain conditions and ultimately determine support vectors.\n",
        "Kernel Trick:\n",
        "Although not directly related to linear SVMs, it's worth mentioning that kernel functions allow SVMs to perform non-linear classification by implicitly mapping inputs into high-dimensional\n",
        "feature spaces without explicit computation.\"\"\"\n"
      ],
      "metadata": {
        "id": "Dh87QXnCMaa-"
      },
      "execution_count": null,
      "outputs": []
    },
    {
      "cell_type": "code",
      "source": [
        "# Q3\n",
        "\n",
        "\"\"\" The Kernel Trick in SVM\n",
        "The kernel trick is a fundamental concept in Support Vector Machines (SVMs) that allows these models to perform classification tasks in high-dimensional spaces without explicitly\n",
        "computing the coordinates of the data in that space. This technique is particularly useful for handling non-linear relationships between features by transforming the input data\n",
        "into a higher-dimensional feature space where it becomes linearly separable.\n",
        "\n",
        "Understanding the Kernel Trick\n",
        "Linear Separability and High-Dimensional Spaces\n",
        "In many real-world datasets, classes are not linearly separable in their original feature space. The kernel trick addresses this issue by mapping input data into a\n",
        "higher-dimensional space where a linear hyperplane can effectively separate the classes. This transformation is achieved through kernel functions, which compute dot products in\n",
        "this new feature space without ever explicitly performing the transformation.\n",
        "\n",
        "Kernel Functions\n",
        "A kernel function is essentially a similarity function that computes the inner product of two vectors in some (possibly infinite-dimensional) feature space. Commonly used kernel\n",
        "functions include:\n",
        "\n",
        "Linear Kernel:K(xi,xj)=xi⋅xj - Suitable for linearly separable data.\n",
        "Polynomial Kernel:K(xi,xj)=(xi⋅xj+c)d - Allows learning of polynomial decision boundaries.\n",
        "Radial Basis Function (RBF) or Gaussian Kernel:K(xi,xj)=exp(−γ||xi−xj||2) - Effective for capturing complex patterns and widely used due to its flexibility.\n",
        "Sigmoid Kernel:K(xi,xj)=tanh(αxi⋅xj+c)\n",
        " - Resembles neural network activation functions.\n",
        "Mathematical Formulation\n",
        "The kernel trick leverages these functions to compute inner products directly in the transformed feature space:\n",
        "\n",
        "K(xi,xj)=ϕ(xi)⋅ϕ(xj) where ϕ(x) represents the mapping from input space to feature space. By using kernels, SVMs can operate efficiently even when dealing with very high-dimensional spaces or\n",
        "infinite dimensions.\n",
        "\n",
        "Advantages of Using the Kernel Trick\n",
        "Computational Efficiency:\n",
        "Direct computation of dot products using kernels avoids explicit transformation of data into high-dimensional spaces, saving computational resources and time.\n",
        "Flexibility:\n",
        "Kernels allow SVMs to model complex decision boundaries and adapt to various types of data distributions without altering the core algorithmic structure.\n",
        "Generalization Capability:\n",
        "By finding optimal hyperplanes in transformed spaces, SVMs maintain strong generalization performance on unseen data.\n",
        "Versatility:\n",
        "The choice of different kernels enables customization based on specific problem requirements and domain knowledge.\n",
        "Practical Considerations\n",
        "Choice of Kernel: Selecting an appropriate kernel function is crucial for model performance and often requires experimentation or domain expertise.\n",
        "Parameter Tuning: Parameters associated with kernels (e.g., degree for polynomial kernels or gamma for RBF kernels) need careful tuning through techniques like cross-validation.\n",
        "Scalability: While powerful, kernel methods may face challenges with very large datasets due to increased computational demands associated with pairwise calculations among samples.\"\"\"\n"
      ],
      "metadata": {
        "id": "euRee3r1MbAb"
      },
      "execution_count": null,
      "outputs": []
    },
    {
      "cell_type": "code",
      "source": [
        "# Q4\n",
        "\n",
        "\"\"\" The Role of Support Vectors in SVM\n",
        "Support Vector Machines (SVM) are a powerful set of supervised learning methods used for classification, regression, and outlier detection. The concept of support vectors is central\n",
        "to the functioning of SVMs, as they play a critical role in defining the decision boundary that separates different classes in the feature space. To understand the role of support\n",
        "vectors, it is essential to delve into the mechanics of how SVMs operate.\n",
        "\n",
        "Understanding Support Vectors\n",
        "In an SVM model, data points are represented as vectors in a multidimensional space. The goal is to find a hyperplane that best divides the data into two classes. In two-dimensional\n",
        "space, this hyperplane is simply a line; in three dimensions, it becomes a plane; and in higher dimensions, it is referred to as a hyperplane.\n",
        "\n",
        "The key challenge is to identify the optimal hyperplane that maximizes the margin between two classes. The margin is defined as the distance between the hyperplane and the nearest\n",
        "data point from either class. These nearest data points are known as support vectors. They are crucial because:\n",
        "\n",
        "Defining the Margin: Support vectors are used to calculate and define the width of the margin around the separating hyperplane. The larger this margin, the better generalization\n",
        "capability of the classifier on unseen data.\n",
        "Determining Hyperplane Position: Only these support vectors influence or determine where exactly this optimal hyperplane will be positioned within the feature space. Other non-support\n",
        "vector points do not affect this decision.\n",
        "Robustness: Since only support vectors are used to determine the decision boundary, SVMs can be robust against outliers if those outliers do not become support vectors themselves.\n",
        "Computational Efficiency: By focusing only on support vectors rather than all data points, SVMs can be computationally efficient even with large datasets.\n",
        "Mathematical Formulation\n",
        "Mathematically, an SVM aims to solve an optimization problem where it seeks to maximize 2||w||, subject to constraints derived from each class's labels and their respective positions\n",
        "relative to the hyperplane:yi(w⋅xi+b)≥1\n",
        "Here:w represents weights,xi denotes input features,yi indicates class labels (+1 or -1),b is bias term.\n",
        "The solution involves finding w and b such that this condition holds true for all training samples while maximizing margin width.\n",
        "\n",
        "Example\n",
        "Consider a simple binary classification problem with two features (x1 and x2). Suppose we have two classes: positive (+1) and negative (-1). When plotted on a graph, these classes may\n",
        "appear separable by some line (hyperplane).\n",
        "\n",
        "Imagine we have several points from both classes scattered across this plot:\n",
        "\n",
        "Points lying closest to where our ideal line would go are our potential support vectors.\n",
        "If we adjust our line slightly towards one side or another without crossing any point from either class over into another's territory (i.e., maintaining separation), those closest points\n",
        "remain unchanged—they continue being pivotal in determining where exactly our dividing line should sit.\n",
        "For instance:\n",
        "\n",
        "Positive class might have its closest point at coordinates (3, 4).\n",
        "Negative class might have its closest point at coordinates (5, 6).\n",
        "These specific coordinates represent your support vectors—critical players ensuring maximum separation between categories while maintaining accuracy during classification tasks.\"\"\""
      ],
      "metadata": {
        "id": "LK5_3GxTONom"
      },
      "execution_count": null,
      "outputs": []
    },
    {
      "cell_type": "code",
      "source": [
        "# Q5\n",
        "\n",
        "\"\"\" Understanding Hyperplanes, Marginal Planes, Soft Margins, and Hard Margins in Support Vector Machines (SVM)\n",
        "Support Vector Machines (SVM) are a set of supervised learning methods used for classification, regression, and outlier detection. They are particularly well-suited for\n",
        "classification of complex but small- or medium-sized datasets. The core idea behind SVM is to find the optimal hyperplane that distinctly classifies the data points in an\n",
        "n-dimensional space.\n",
        "\n",
        "Hyperplane\n",
        "A hyperplane is a flat affine subspace of one dimension less than its ambient space. In the context of SVMs, a hyperplane is used to separate different classes of data points.\n",
        "For instance, in a two-dimensional space, a hyperplane is simply a line. In three dimensions, it becomes a plane, and so forth.\n",
        "\n",
        "Example\n",
        "Consider a binary classification problem with two features (x1 and x2). The equation of the hyperplane can be represented as:\n",
        "w1x1+w2x2+b=0 Where w1 andw2 are weights and b is the bias term. The goal of SVM is to find values for these parameters such that the hyperplane separates the classes with maximum margin.\n",
        "\n",
        "Graphical Representation\n",
        "In two dimensions, visualize this as a straight line dividing two sets of points belonging to different classes. Points on one side belong to one class while those on the other side belong to another class.\n",
        "\n",
        "Marginal Plane\n",
        "The marginal planes are parallel planes that pass through the support vectors — data points that lie closest to the decision boundary or hyperplane. These planes help define the margin between classes.\n",
        "\n",
        "Example\n",
        "For our previous example with two features:\n",
        "\n",
        "The equations for marginal planes can be given by: w1x1+w2x2+b=1 - w1x1+w2x2+b=−1\n",
        "These equations represent planes parallel to the hyperplane but shifted by a distance determined by the margin.\n",
        "Graphical Representation\n",
        "In two dimensions, these appear as lines parallel to the main separating line (hyperplane), touching some data points known as support vectors.\n",
        "\n",
        "Soft Margin\n",
        "Soft margin SVM allows some misclassification errors in order to achieve better generalization on unseen data. This approach introduces slack variables (\n",
        "ξ\n",
        ") which measure how much each point violates the margin constraints.\n",
        "\n",
        "Example\n",
        "The optimization problem becomes:minw,b,ξ12||w||2+C∑i=1nξi\n",
        "Subject to:yi(wTxi+b)≥1−ξiξi≥0\n",
        "Where C>0 is a regularization parameter that controls trade-off between maximizing margin and minimizing classification error.\n",
        "\n",
        "Graphical Representation\n",
        "In graphical terms, soft margins allow some data points to be inside or even on the wrong side of their respective marginal plane but penalizes them based on their distance from correct classification.\n",
        "\n",
        "Hard Margin\n",
        "Hard margin SVM assumes that all data points are perfectly separable by a linear boundary without any errors or overlaps. It seeks to maximize the minimum distance between any training point and the decision boundary without allowing any misclassifications.\n",
        "\n",
        "Example\n",
        "The optimization problem here does not include slack variables:\n",
        "\n",
        "minw,b12||w||2\n",
        "Subject to:yi(wTxi+b)≥1\n",
        "This formulation works well when there is clear separation between classes but struggles with overlapping data or noise.\n",
        "\n",
        "Graphical Representation\n",
        "Graphically, hard margins result in strict boundaries where no data point crosses into another class's region unless they lie exactly on their respective marginal plane.\"\"\""
      ],
      "metadata": {
        "id": "lg9DGc0NONrh"
      },
      "execution_count": null,
      "outputs": []
    },
    {
      "cell_type": "code",
      "source": [
        "# Q6\n",
        "\n",
        "from sklearn import datasets\n",
        "from sklearn.model_selection import train_test_split\n",
        "from sklearn.svm import SVC\n",
        "from sklearn.preprocessing import StandardScaler\n",
        "from sklearn.metrics import accuracy_score\n",
        "import matplotlib.pyplot as plt\n",
        "import numpy as np\n",
        "\n",
        "iris = datasets.load_iris()\n",
        "X = iris.data[:, :2]\n",
        "y = iris.target\n",
        "\n",
        "X = X[y != 2]\n",
        "y = y[y != 2]\n",
        "\n",
        "X_train, X_test, y_train, y_test = train_test_split(X, y, test_size=0.3, random_state=42, stratify=y)\n",
        "\n",
        "scaler = StandardScaler()\n",
        "X_train = scaler.fit_transform(X_train)\n",
        "X_test = scaler.transform(X_test)\n"
      ],
      "metadata": {
        "id": "ba7KJsn2ONu3"
      },
      "execution_count": 1,
      "outputs": []
    },
    {
      "cell_type": "code",
      "source": [
        "\n",
        "model = SVC(kernel='linear', C=1.0)\n",
        "model.fit(X_train, y_train)\n",
        "\n",
        "y_pred = model.predict(X_test)\n",
        "accuracy = accuracy_score(y_test, y_pred)\n",
        "print(\"Accuracy:\", round(accuracy, 3))\n"
      ],
      "metadata": {
        "colab": {
          "base_uri": "https://localhost:8080/"
        },
        "id": "10Qt0jd8QkWu",
        "outputId": "6ebf55b1-7cf5-476a-8da3-b6b8b1156158"
      },
      "execution_count": 2,
      "outputs": [
        {
          "output_type": "stream",
          "name": "stdout",
          "text": [
            "Accuracy: 1.0\n"
          ]
        }
      ]
    },
    {
      "cell_type": "code",
      "source": [
        "def plot_decision_boundary(clf, X, y):\n",
        "    x_min, x_max = X[:, 0].min() - 1, X[:, 0].max() + 1\n",
        "    y_min, y_max = X[:, 1].min() - 1, X[:, 1].max() + 1\n",
        "    xx, yy = np.meshgrid(np.linspace(x_min, x_max, 500),\n",
        "                         np.linspace(y_min, y_max, 500))\n",
        "    Z = clf.predict(np.c_[xx.ravel(), yy.ravel()])\n",
        "    Z = Z.reshape(xx.shape)\n",
        "\n",
        "    plt.contourf(xx, yy, Z, alpha=0.2)\n",
        "    plt.scatter(X[:, 0], X[:, 1], c=y, cmap=plt.cm.coolwarm, edgecolors='k')\n",
        "    plt.xlabel(\"Sepal length (scaled)\")\n",
        "    plt.ylabel(\"Sepal width (scaled)\")\n",
        "    plt.title(\"Decision Boundary (Linear SVM)\")\n",
        "    plt.show()\n",
        "\n",
        "plot_decision_boundary(model, X_train, y_train)\n"
      ],
      "metadata": {
        "colab": {
          "base_uri": "https://localhost:8080/",
          "height": 472
        },
        "id": "cddIyoNzQtwu",
        "outputId": "6d9f4810-bd25-4ad8-aaea-00b1f4a8e6e0"
      },
      "execution_count": 3,
      "outputs": [
        {
          "output_type": "display_data",
          "data": {
            "text/plain": [
              "<Figure size 640x480 with 1 Axes>"
            ],
            "image/png": "[encoded data removed]"
          },
          "metadata": {}
        }
      ]
    },
    {
      "cell_type": "code",
      "source": [
        "for c in [0.01, 0.1, 1, 10, 100]:\n",
        "    model = SVC(kernel='linear', C=c)\n",
        "    model.fit(X_train, y_train)\n",
        "    acc = accuracy_score(y_test, model.predict(X_test))\n",
        "    print(f\"C={c} ➤ Accuracy: {acc:.3f}\")\n"
      ],
      "metadata": {
        "colab": {
          "base_uri": "https://localhost:8080/"
        },
        "id": "OOL6W5nrQxKa",
        "outputId": "7fb44ea6-899e-429a-bf7b-fc688c68e16a"
      },
      "execution_count": 4,
      "outputs": [
        {
          "output_type": "stream",
          "name": "stdout",
          "text": [
            "C=0.01 ➤ Accuracy: 0.933\n",
            "C=0.1 ➤ Accuracy: 1.000\n",
            "C=1 ➤ Accuracy: 1.000\n",
            "C=10 ➤ Accuracy: 1.000\n",
            "C=100 ➤ Accuracy: 1.000\n"
          ]
        }
      ]
    },
    {
      "cell_type": "code",
      "source": [
        "class LinearSVM:\n",
        "    def __init__(self, C=1.0, lr=0.001, epochs=1000):\n",
        "        self.C = C\n",
        "        self.lr = lr\n",
        "        self.epochs = epochs\n",
        "\n",
        "    def fit(self, X, y):\n",
        "        n_samples, n_features = X.shape\n",
        "        y = np.where(y <= 0, -1, 1)\n",
        "        self.w = np.zeros(n_features)\n",
        "        self.b = 0\n",
        "\n",
        "        for _ in range(self.epochs):\n",
        "            for i in range(n_samples):\n",
        "                condition = y[i] * (np.dot(X[i], self.w) + self.b) >= 1\n",
        "                if condition:\n",
        "                    self.w -= self.lr * self.w\n",
        "                else:\n",
        "                    self.w -= self.lr * (self.w - self.C * y[i] * X[i])\n",
        "                    self.b -= self.lr * self.C * y[i]\n",
        "\n",
        "    def predict(self, X):\n",
        "        return np.sign(np.dot(X, self.w) + self.b)\n"
      ],
      "metadata": {
        "id": "OvwxbinPQ0-x"
      },
      "execution_count": 5,
      "outputs": []
    },
    {
      "cell_type": "code",
      "source": [
        "svm_scratch = LinearSVM(C=1.0, lr=0.001, epochs=1000)\n",
        "svm_scratch.fit(X_train, y_train)\n",
        "y_pred_scratch = svm_scratch.predict(X_test)\n",
        "y_pred_scratch = np.where(y_pred_scratch == -1, 0, 1)\n",
        "acc_scratch = accuracy_score(y_test, y_pred_scratch)\n",
        "\n",
        "print(\"Scratch SVM Accuracy:\", round(acc_scratch, 3))\n",
        "print(\"Scikit-learn SVM Accuracy:\", round(accuracy, 3))\n"
      ],
      "metadata": {
        "colab": {
          "base_uri": "https://localhost:8080/"
        },
        "id": "szJGo7DqQ4FH",
        "outputId": "3ea73b18-a20c-4bcd-acd6-1fa6df15d45f"
      },
      "execution_count": 6,
      "outputs": [
        {
          "output_type": "stream",
          "name": "stdout",
          "text": [
            "Scratch SVM Accuracy: 0.5\n",
            "Scikit-learn SVM Accuracy: 1.0\n"
          ]
        }
      ]
    },
    {
      "cell_type": "code",
      "source": [],
      "metadata": {
        "id": "54LdkUaBQ6qD"
      },
      "execution_count": null,
      "outputs": []
    }
  ]
}