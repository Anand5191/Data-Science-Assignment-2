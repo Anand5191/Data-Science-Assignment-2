{
  "nbformat": 4,
  "nbformat_minor": 0,
  "metadata": {
    "colab": {
      "provenance": []
    },
    "kernelspec": {
      "name": "python3",
      "display_name": "Python 3"
    },
    "language_info": {
      "name": "python"
    }
  },
  "cells": [
    {
      "cell_type": "code",
      "execution_count": null,
      "metadata": {
        "id": "_XrUAawilEMS"
      },
      "outputs": [],
      "source": [
        "# Q1\n",
        "\n",
        "\"\"\" Probability Density Function : A Probability Density Function (PDF) is a fundamental concept in the field of probability theory and statistics, particularly in the study of\n",
        "continuous random variables. Unlike discrete random variables, which can take on specific values with certain probabilities, continuous random variables can assume an infinite\n",
        "number of values within a given range. The PDF provides a way to describe the likelihood of these continuous outcomes.\"\"\""
      ]
    },
    {
      "cell_type": "code",
      "source": [
        "# Q2\n",
        "\"\"\" Types of Probability Distributions : Probability distributions are fundamental concepts in statistics and probability theory, describing how the values of a random variable are\n",
        "distributed. They provide a mathematical framework for understanding the likelihood of different outcomes in various scenarios, ranging from simple coin tosses to complex financial\n",
        "models. Probability distributions can be broadly classified into two main categories: discrete probability distributions and continuous probability distributions.\n",
        "\n",
        "1). Discrete Probability Distributions\n",
        "Discrete probability distributions apply to discrete random variables, which can take on a countable number of distinct values. The probabilities associated with these values must\n",
        " sum up to one. Some common types of discrete probability distributions include:\n",
        "\n",
        "a). Binomial Distribution\n",
        "The binomial distribution models the number of successes in a fixed number of independent Bernoulli trials (experiments with two possible outcomes, such as success or failure).\n",
        "\n",
        "\n",
        "b). Poisson Distribution\n",
        "The Poisson distribution describes the number of events occurring within a fixed interval of time or space when these events happen independently and at a constant average rate.\n",
        "\n",
        "c). Geometric Distribution\n",
        "The geometric distribution models the number of trials needed to achieve the first success in repeated independent Bernoulli trials.\n",
        "\n",
        "2). Continuous Probability Distributions\n",
        "Continuous probability distributions apply to continuous random variables, which can take any value within a given range or interval. Unlike discrete distributions, continuous distributions are described using probability density functions (PDFs), where probabilities are determined over intervals rather than specific points.\n",
        "\n",
        "a). Normal Distribution\n",
        "The normal distribution, also known as Gaussian distribution, is one of the most important continuous distributions in statistics due to its properties and prevalence in natural\n",
        "phenomena. It is characterized by its bell-shaped curve.\n",
        "\n",
        "b). Exponential Distribution\n",
        "The exponential distribution models the time until an event occurs in a Poisson process and is characterized by its rate parameter\n",
        "This distribution is often used to model waiting times or lifetimes.\n",
        "\n",
        "c). Uniform Distribution\n",
        "The uniform distribution describes an equal likelihood for all outcomes within a specified range [a, b]. For continuous uniform distribution.\"\"\""
      ],
      "metadata": {
        "id": "lgSe-FSvlltv"
      },
      "execution_count": null,
      "outputs": []
    },
    {
      "cell_type": "code",
      "source": [
        "# Q3\n",
        "\n",
        "import math\n",
        "\n",
        "def normal_pdf(x, mean, std_dev):\n",
        "    coefficient = 1 / (std_dev * math.sqrt(2 * math.pi))\n",
        "    exponent = math.exp(-((x - mean) ** 2) / (2 * std_dev ** 2))\n",
        "    return coefficient * exponent\n",
        "\n",
        "x_value = 5\n",
        "mean = 4\n",
        "std_dev = 1.5\n",
        "pdf_value = normal_pdf(x_value, mean, std_dev)\n",
        "print(f\"PDF at x={x_value}: {pdf_value:.6f}\")\n"
      ],
      "metadata": {
        "colab": {
          "base_uri": "https://localhost:8080/"
        },
        "id": "1Hm0hY0cllxT",
        "outputId": "acd4867b-10ee-469e-abf7-80fa54286af9"
      },
      "execution_count": 1,
      "outputs": [
        {
          "output_type": "stream",
          "name": "stdout",
          "text": [
            "PDF at x=5: 0.212965\n"
          ]
        }
      ]
    },
    {
      "cell_type": "code",
      "source": [
        "# Q4\n",
        "\n",
        "\"\"\" Properties of Binomial Distribution:\n",
        "The Binomial distribution models the number of successes in a fixed number of independent trials, where each trial has only two possible outcomes: success or failure.\n",
        "\n",
        "Fixed number of trials (n): The experiment consists of a predetermined number of trials.\n",
        "\n",
        "Only two outcomes per trial: Each trial results in either success (probability p) or failure (probability 1−𝑝).\n",
        "\n",
        "Independent trials: The outcome of one trial does not affect the others.\n",
        "\n",
        "Constant probability of success (p): The probability of success remains the same for each trial.\n",
        "\n",
        "Binomial probability formula: The probability of getting exactly k successes in n trials.\n",
        "\n",
        "Examples of Binomial Distribution Applications: Tossing a Coin:\n",
        "\n",
        "If a fair coin is flipped 10 times, and we define getting heads as success, the number of heads follows a binomial distribution with n=10 and p=0.5.\n",
        "\n",
        "Manufacturing Quality Control:\n",
        "\n",
        "Suppose a factory produces LED bulbs, and each bulb has a 2% chance of being defective. If we randomly select 50 bulbs, the number of defective bulbs follows a\n",
        "binomial distribution with n=50 and p=0.02. \"\"\"\n",
        "\n"
      ],
      "metadata": {
        "id": "2vNN7xHGm30l"
      },
      "execution_count": null,
      "outputs": []
    },
    {
      "cell_type": "code",
      "source": [
        "# Q5\n",
        "\n",
        "import numpy as np\n",
        "import matplotlib.pyplot as plt\n",
        "\n",
        "n = 10  # Number of trials per sample\n",
        "p = 0.4  # Probability of success\n",
        "size = 1000  # Sample size\n",
        "\n",
        "sample = np.random.binomial(n, p, size)\n",
        "\n",
        "plt.figure(figsize=(8, 5))\n",
        "plt.hist(sample, bins=range(n+2), edgecolor='black', alpha=0.7, density=True)\n",
        "\n",
        "plt.xlabel(\"Number of Successes\")\n",
        "plt.ylabel(\"Probability Density\")\n",
        "plt.title(f\"Histogram of Binomial Distribution (n={n}, p={p})\")\n",
        "plt.xticks(range(n+1))  # Ensure integer x-axis ticks\n",
        "plt.grid(axis='y', linestyle='--', alpha=0.7)\n",
        "\n",
        "plt.show()\n"
      ],
      "metadata": {
        "colab": {
          "base_uri": "https://localhost:8080/",
          "height": 487
        },
        "id": "7Ad46lOsn20B",
        "outputId": "0aa19aee-49f1-49e4-92de-5d8264a748ae"
      },
      "execution_count": 2,
      "outputs": [
        {
          "output_type": "display_data",
          "data": {
            "text/plain": [
              "<Figure size 800x500 with 1 Axes>"
            ],
            "image/png": "[encoded data removed]"
          },
          "metadata": {}
        }
      ]
    },
    {
      "cell_type": "code",
      "source": [
        "# Q6\n",
        "\n",
        "import math\n",
        "\n",
        "def poisson_cdf(x, mean):\n",
        "    cdf = sum((math.exp(-mean) * mean**k) / math.factorial(k) for k in range(x + 1))\n",
        "    return cdf\n",
        "\n",
        "mean = 3\n",
        "x_value = 5\n",
        "cdf_value = poisson_cdf(x_value, mean)\n",
        "print(f\"Poisson CDF at x={x_value} with mean={mean}: {cdf_value:.6f}\")\n"
      ],
      "metadata": {
        "colab": {
          "base_uri": "https://localhost:8080/"
        },
        "id": "xyFEBXq_n226",
        "outputId": "5787f41d-b734-4478-ff84-9fb8c8791a3c"
      },
      "execution_count": 3,
      "outputs": [
        {
          "output_type": "stream",
          "name": "stdout",
          "text": [
            "Poisson CDF at x=5 with mean=3: 0.916082\n"
          ]
        }
      ]
    },
    {
      "cell_type": "code",
      "source": [
        "# Q7\n",
        "\"\"\"\n",
        "Differences                           Between Binomial             and                        Poisson Distributions:\n",
        "\n",
        "Feature             \t               Binomial Distribution                         \t           Poisson Distribution\n",
        "\n",
        "Definition               \t       Models the number of successes in                      Models the number of events occurring in\n",
        "                                     a fixed number of trials.\t                             a fixed interval (time/space).\n",
        "\n",
        "Parameters\t                        n (number of trials),                              λ (mean number of events in a given interval)\n",
        "                                p (probability of success per trial)\n",
        "\n",
        "\n",
        "Number of Trials\t                  Fixed (n is known).\t                                Theoretically infinite (large n, small p).\n",
        "\n",
        "Probability of                   Constant for each trial.\t                              Implied by λ (not directly given).\n",
        "Success (p)\n",
        "\n",
        "Outcome Types               \t  Only two outcomes per trial:                    \t           Count of occurrences (0, 1, 2, …).\n",
        "                                  Success or Failure.\n",
        "\n",
        "When Used?\t                  When the number of trials is fixed,                          When events happen randomly over\n",
        "                                and each trial is independent.\t                           time/space with a known average rate.\n",
        "\"\"\""
      ],
      "metadata": {
        "id": "Il_7YIDDn26h"
      },
      "execution_count": null,
      "outputs": []
    },
    {
      "cell_type": "code",
      "source": [
        "# Q8\n",
        "\n",
        "import numpy as np\n",
        "\n",
        "mean_lambda = 5\n",
        "sample_size = 1000\n",
        "\n",
        "sample = np.random.poisson(mean_lambda, sample_size)\n",
        "\n",
        "sample_mean = np.mean(sample)\n",
        "sample_variance = np.var(sample, ddof=0)\n",
        "\n",
        "print(f\"Sample Mean: {sample_mean:.4f}\")\n",
        "print(f\"Sample Variance: {sample_variance:.4f}\")\n"
      ],
      "metadata": {
        "colab": {
          "base_uri": "https://localhost:8080/"
        },
        "id": "3O8zdQpkryb3",
        "outputId": "23890588-28d4-4f36-faa6-df47b1f99584"
      },
      "execution_count": 4,
      "outputs": [
        {
          "output_type": "stream",
          "name": "stdout",
          "text": [
            "Sample Mean: 4.9320\n",
            "Sample Variance: 4.6354\n"
          ]
        }
      ]
    },
    {
      "cell_type": "code",
      "source": [
        "# Q9\n",
        "\n",
        "\"\"\"Binomial Distribution :\n",
        "Definition : The Binomial distribution models the number of successes in a fixed number of independent Bernoulli trials (experiments with two possible outcomes: success or failure).\n",
        "The parameters of a Binomial distribution are n(the number of trials) and p(the probability of success on each trial).\n",
        "\n",
        "Mean:The mean μ of a Binomial distribution can be calculated using the formula: μ=n.p\n",
        "This indicates that the expected number of successes is directly proportional to both the number of trials and the probability of success.\n",
        "\n",
        "Variance :\n",
        "The variance σ2 of a Binomial distribution is given by: σ2=n⋅p⋅(1−p)\n",
        "This shows that variance depends not only on the number of trials but also on both the probability of success p and the probability of failure\n",
        "(1−p).Relationship Between Mean and Variance\n",
        "From these formulas, we can observe that:\n",
        "\n",
        "The mean is influenced linearly by n and p.The variance incorporates an additional factor, (1−p), which accounts for variability in outcomes.\n",
        "Thus, while both mean and variance increase with more trials (n), their relationship is not one-to-one due to the influence of p. Specifically, as p\n",
        "approaches 0 or 1, variance decreases even if n increases.\n",
        "\n",
        "Poisson Distribution :\n",
        "Definition : The Poisson distribution models the number of events occurring in a fixed interval of time or space when these events happen independently with a known constant mean rate.\n",
        "It is characterized by a single parameter λ, which represents both the mean and variance.\n",
        "\n",
        "Mean :\n",
        "For a Poisson distribution, the mean is defined as: μ=λ\n",
        "This indicates that if you expect an average rate of occurrence over an interval, that same value serves as your expected count.\n",
        "\n",
        "Variance :\n",
        "The variance for a Poisson distribution is also given by: σ2=λ\n",
        "This unique property means that in a Poisson distribution, the mean equals the variance.\n",
        "\n",
        "Relationship Between Mean and Variance :\n",
        "In contrast to the Binomial distribution where mean and variance are related but distinct due to different influencing factors, in a Poisson distribution: Both metrics are equal.\n",
        "This equality simplifies many calculations in statistical modeling since knowing one automatically provides information about the other. \"\"\"\n"
      ],
      "metadata": {
        "id": "JCqrYuzPryfP"
      },
      "execution_count": null,
      "outputs": []
    },
    {
      "cell_type": "code",
      "source": [
        "# Q10\n",
        "\n",
        "\"\"\" In a normal distribution, the least frequent data appears in the tails of the distribution, which are the farthest regions from the mean (μ).\n",
        "\n",
        "Explanation:\n",
        "A normal distribution is bell-shaped and symmetric around the mean.\n",
        "\n",
        "The highest frequency of data appears near the mean, where the peak of the curve is located.\n",
        "\n",
        "The probability density decreases as we move away from the mean.\n",
        "\n",
        "The least frequent data points (outliers) are found in the extreme left and right tails (far from μ). \"\"\"\n",
        "\n"
      ],
      "metadata": {
        "id": "FyNW5PyCuAMU"
      },
      "execution_count": null,
      "outputs": []
    }
  ]
}