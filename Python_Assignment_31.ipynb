{
  "nbformat": 4,
  "nbformat_minor": 0,
  "metadata": {
    "colab": {
      "provenance": []
    },
    "kernelspec": {
      "name": "python3",
      "display_name": "Python 3"
    },
    "language_info": {
      "name": "python"
    }
  },
  "cells": [
    {
      "cell_type": "code",
      "execution_count": 1,
      "metadata": {
        "colab": {
          "base_uri": "https://localhost:8080/"
        },
        "id": "X6h7lz-LPyWs",
        "outputId": "f776b527-ef05-47fd-c066-f184c02ba8a4"
      },
      "outputs": [
        {
          "output_type": "stream",
          "name": "stdout",
          "text": [
            "95% Confidence Interval: (48.13, 51.87)\n"
          ]
        }
      ],
      "source": [
        "# Q1\n",
        "\n",
        "import scipy.stats as stats\n",
        "import numpy as np\n",
        "\n",
        "sample_mean = 50\n",
        "sample_std = 5\n",
        "n = 30\n",
        "\n",
        "alpha = 0.05\n",
        "df = n - 1\n",
        "t_score = stats.t.ppf(1 - alpha/2, df)\n",
        "\n",
        "margin_error = t_score * (sample_std / np.sqrt(n))\n",
        "\n",
        "lower_bound = sample_mean - margin_error\n",
        "upper_bound = sample_mean + margin_error\n",
        "\n",
        "print(f\"95% Confidence Interval: ({lower_bound:.2f}, {upper_bound:.2f})\")\n"
      ]
    },
    {
      "cell_type": "code",
      "source": [
        "# Q2\n",
        "\n",
        "import scipy.stats as stats\n",
        "import numpy as np\n",
        "\n",
        "observed = np.array([22, 18, 20, 8, 12, 20])\n",
        "\n",
        "expected_proportions = np.array([0.20, 0.20, 0.20, 0.10, 0.10, 0.20])\n",
        "total_mms = np.sum(observed)\n",
        "expected = expected_proportions * total_mms\n",
        "\n",
        "chi2_stat, p_value = stats.chisquare(observed, expected)\n",
        "\n",
        "print(f\"Chi-Square Statistic: {chi2_stat:.2f}\")\n",
        "print(f\"P-Value: {p_value:.4f}\")\n",
        "\n",
        "alpha = 0.05\n",
        "if p_value < alpha:\n",
        "    print(\"Reject the null hypothesis: The M&M color distribution is significantly different from expected.\")\n",
        "else:\n",
        "    print(\"Fail to reject the null hypothesis: The M&M color distribution matches the expected distribution.\")\n"
      ],
      "metadata": {
        "colab": {
          "base_uri": "https://localhost:8080/"
        },
        "id": "FPfz2Ho3QkvY",
        "outputId": "315a0695-ca7b-4086-8066-a94c493262dc"
      },
      "execution_count": 2,
      "outputs": [
        {
          "output_type": "stream",
          "name": "stdout",
          "text": [
            "Chi-Square Statistic: 1.20\n",
            "P-Value: 0.9449\n",
            "Fail to reject the null hypothesis: The M&M color distribution matches the expected distribution.\n"
          ]
        }
      ]
    },
    {
      "cell_type": "code",
      "source": [
        "# Q3\n",
        "\n",
        "import scipy.stats as stats\n",
        "import numpy as np\n",
        "\n",
        "data = np.array([[20, 15],\n",
        "                 [10, 25],\n",
        "                 [15, 20]])\n",
        "\n",
        "chi2_stat, p_value, dof, expected = stats.chi2_contingency(data)\n",
        "\n",
        "print(f\"Chi-Square Statistic: {chi2_stat:.2f}\")\n"
      ],
      "metadata": {
        "colab": {
          "base_uri": "https://localhost:8080/"
        },
        "id": "VGyLUmR1Q3S5",
        "outputId": "b6a94caf-d5a5-4736-e509-51709d170c5c"
      },
      "execution_count": 3,
      "outputs": [
        {
          "output_type": "stream",
          "name": "stdout",
          "text": [
            "Chi-Square Statistic: 5.83\n"
          ]
        }
      ]
    },
    {
      "cell_type": "code",
      "source": [
        "# Q4\n",
        "\n",
        "import statsmodels.stats.proportion as smp\n",
        "x = 60\n",
        "n = 500\n",
        "confidence_level = 0.95\n",
        "\n",
        "ci_lower, ci_upper = smp.proportion_confint(x, n, alpha=1-confidence_level, method='normal')\n",
        "\n",
        "print(f\"95% Confidence Interval for smoking proportion: ({ci_lower:.4f}, {ci_upper:.4f})\")\n"
      ],
      "metadata": {
        "colab": {
          "base_uri": "https://localhost:8080/"
        },
        "id": "uDy2Z97CRUwt",
        "outputId": "00346b27-ce60-4ef4-99df-e4461ce164ea"
      },
      "execution_count": 4,
      "outputs": [
        {
          "output_type": "stream",
          "name": "stdout",
          "text": [
            "95% Confidence Interval for smoking proportion: (0.0915, 0.1485)\n"
          ]
        }
      ]
    },
    {
      "cell_type": "code",
      "source": [
        "# Q5\n",
        "\n",
        "import scipy.stats as stats\n",
        "import numpy as np\n",
        "\n",
        "mean = 75\n",
        "std_dev = 12\n",
        "n = 50\n",
        "confidence_level = 0.90\n",
        "\n",
        "z_critical = stats.norm.ppf((1 + confidence_level) / 2)\n",
        "\n",
        "margin_of_error = z_critical * (std_dev / np.sqrt(n))\n",
        "\n",
        "ci_lower = mean - margin_of_error\n",
        "ci_upper = mean + margin_of_error\n",
        "\n",
        "print(f\"90% Confidence Interval: ({ci_lower:.2f}, {ci_upper:.2f})\")\n"
      ],
      "metadata": {
        "colab": {
          "base_uri": "https://localhost:8080/"
        },
        "id": "SBlgd8iJRlZS",
        "outputId": "fbde024b-94a7-4ce1-932a-9bf3fd20b651"
      },
      "execution_count": 5,
      "outputs": [
        {
          "output_type": "stream",
          "name": "stdout",
          "text": [
            "90% Confidence Interval: (72.21, 77.79)\n"
          ]
        }
      ]
    },
    {
      "cell_type": "code",
      "source": [
        "# Q6\n",
        "\n",
        "import numpy as np\n",
        "import scipy.stats as stats\n",
        "import matplotlib.pyplot as plt\n",
        "\n",
        "df = 10\n",
        "\n",
        "x = np.linspace(0, 30, 1000)\n",
        "\n",
        "y = stats.chi2.pdf(x, df)\n",
        "\n",
        "chi_square_stat = 15\n",
        "\n",
        "plt.figure(figsize=(8, 5))\n",
        "plt.plot(x, y, label=f'Chi-Square Distribution (df={df})', color='blue')\n",
        "\n",
        "x_fill = np.linspace(chi_square_stat, 30, 500)\n",
        "y_fill = stats.chi2.pdf(x_fill, df)\n",
        "plt.fill_between(x_fill, y_fill, color='red', alpha=0.4, label=f'P(X > {chi_square_stat})')\n",
        "\n",
        "plt.xlabel('Chi-Square Statistic')\n",
        "plt.ylabel('Probability Density')\n",
        "plt.title('Chi-Square Distribution with 10 Degrees of Freedom')\n",
        "plt.legend()\n",
        "plt.grid()\n",
        "\n",
        "plt.show()\n"
      ],
      "metadata": {
        "colab": {
          "base_uri": "https://localhost:8080/",
          "height": 487
        },
        "id": "vvXfTz-CR40k",
        "outputId": "6cbcb2f1-4622-4591-a887-3e6e18e7d3b3"
      },
      "execution_count": 6,
      "outputs": [
        {
          "output_type": "display_data",
          "data": {
            "text/plain": [
              "<Figure size 800x500 with 1 Axes>"
            ],
            "image/png": "[encoded data removed]"
          },
          "metadata": {}
        }
      ]
    },
    {
      "cell_type": "code",
      "source": [
        "# Q7\n",
        "\n",
        "import statsmodels.stats.proportion as smp\n",
        "\n",
        "x = 520\n",
        "n = 1000\n",
        "confidence_level = 0.99\n",
        "\n",
        "ci_lower, ci_upper = smp.proportion_confint(x, n, alpha=1-confidence_level, method='normal')\n",
        "\n",
        "print(f\"99% Confidence Interval for Coke preference: ({ci_lower:.4f}, {ci_upper:.4f})\")\n"
      ],
      "metadata": {
        "colab": {
          "base_uri": "https://localhost:8080/"
        },
        "id": "Ck-yTlQWSMR8",
        "outputId": "5e76f7c2-e870-4a72-9510-94c8c1d563f9"
      },
      "execution_count": 7,
      "outputs": [
        {
          "output_type": "stream",
          "name": "stdout",
          "text": [
            "99% Confidence Interval for Coke preference: (0.4793, 0.5607)\n"
          ]
        }
      ]
    },
    {
      "cell_type": "code",
      "source": [
        "# Q8\n",
        "\n",
        "import scipy.stats as stats\n",
        "\n",
        "observed = [45, 55]\n",
        "expected = [50, 50]\n",
        "\n",
        "chi_square_stat, p_value = stats.chisquare(f_obs=observed, f_exp=expected)\n",
        "\n",
        "print(f\"Chi-Square Statistic: {chi_square_stat:.4f}\")\n",
        "print(f\"P-value: {p_value:.4f}\")\n",
        "\n",
        "alpha = 0.05\n",
        "if p_value < alpha:\n",
        "    print(\"Reject the null hypothesis: The coin is likely biased.\")\n",
        "else:\n",
        "    print(\"Fail to reject the null hypothesis: No strong evidence of bias.\")\n"
      ],
      "metadata": {
        "colab": {
          "base_uri": "https://localhost:8080/"
        },
        "id": "SVMU-nWISfB_",
        "outputId": "2a9607e0-8033-4c53-eee9-026c563dbc9a"
      },
      "execution_count": 8,
      "outputs": [
        {
          "output_type": "stream",
          "name": "stdout",
          "text": [
            "Chi-Square Statistic: 1.0000\n",
            "P-value: 0.3173\n",
            "Fail to reject the null hypothesis: No strong evidence of bias.\n"
          ]
        }
      ]
    },
    {
      "cell_type": "code",
      "source": [
        "# Q9\n",
        "\n",
        "import scipy.stats as stats\n",
        "import numpy as np\n",
        "\n",
        "observed = np.array([[60, 140],\n",
        "                     [30, 170]])\n",
        "\n",
        "chi_square_stat, p_value, dof, expected = stats.chi2_contingency(observed)\n",
        "\n",
        "print(f\"Chi-Square Statistic: {chi_square_stat:.4f}\")\n",
        "print(f\"Degrees of Freedom: {dof}\")\n",
        "print(f\"P-value: {p_value:.4f}\")\n",
        "\n",
        "alpha = 0.05\n",
        "if p_value < alpha:\n",
        "    print(\"Reject the null hypothesis: There is a significant association between smoking and lung cancer.\")\n",
        "else:\n",
        "    print(\"Fail to reject the null hypothesis: No strong evidence of an association between smoking and lung cancer.\")\n"
      ],
      "metadata": {
        "colab": {
          "base_uri": "https://localhost:8080/"
        },
        "id": "frou-XQZSwoI",
        "outputId": "8f26c948-5166-4298-df94-1d907eb2bc02"
      },
      "execution_count": 9,
      "outputs": [
        {
          "output_type": "stream",
          "name": "stdout",
          "text": [
            "Chi-Square Statistic: 12.0573\n",
            "Degrees of Freedom: 1\n",
            "P-value: 0.0005\n",
            "Reject the null hypothesis: There is a significant association between smoking and lung cancer.\n"
          ]
        }
      ]
    },
    {
      "cell_type": "code",
      "source": [
        "# Q10\n",
        "\n",
        "import scipy.stats as stats\n",
        "import numpy as np\n",
        "\n",
        "observed = np.array([[200, 180],\n",
        "                     [150, 170],\n",
        "                     [150, 150]])\n",
        "\n",
        "chi_square_stat, p_value, dof, expected = stats.chi2_contingency(observed)\n",
        "\n",
        "print(f\"Chi-Square Statistic: {chi_square_stat:.4f}\")\n",
        "print(f\"Degrees of Freedom: {dof}\")\n",
        "print(f\"P-value: {p_value:.4f}\")\n",
        "\n",
        "alpha = 0.01\n",
        "if p_value < alpha:\n",
        "    print(\"Reject the null hypothesis: There is a significant association between chocolate preference and country of origin.\")\n",
        "else:\n",
        "    print(\"Fail to reject the null hypothesis: No strong evidence of an association between chocolate preference and country of origin.\")\n"
      ],
      "metadata": {
        "colab": {
          "base_uri": "https://localhost:8080/"
        },
        "id": "bVa9SjwwTGri",
        "outputId": "eebf0d70-a3b1-4e6d-aaa9-e730b20bf11d"
      },
      "execution_count": 10,
      "outputs": [
        {
          "output_type": "stream",
          "name": "stdout",
          "text": [
            "Chi-Square Statistic: 2.3026\n",
            "Degrees of Freedom: 2\n",
            "P-value: 0.3162\n",
            "Fail to reject the null hypothesis: No strong evidence of an association between chocolate preference and country of origin.\n"
          ]
        }
      ]
    },
    {
      "cell_type": "code",
      "source": [
        "# Q11\n",
        "\n",
        "import scipy.stats as stats\n",
        "import numpy as np\n",
        "\n",
        "sample_mean = 72\n",
        "hypothesized_mean = 70\n",
        "sample_std = 10\n",
        "sample_size = 30\n",
        "alpha = 0.05\n",
        "\n",
        "t_statistic = (sample_mean - hypothesized_mean) / (sample_std / np.sqrt(sample_size))\n",
        "\n",
        "df = sample_size - 1\n",
        "\n",
        "p_value = 2 * (1 - stats.t.cdf(abs(t_statistic), df))\n",
        "\n",
        "print(f\"T-Statistic: {t_statistic:.4f}\")\n",
        "print(f\"P-Value: {p_value:.4f}\")\n",
        "\n",
        "if p_value < alpha:\n",
        "    print(\"Reject the null hypothesis: The population mean is significantly different from 70.\")\n",
        "else:\n",
        "    print(\"Fail to reject the null hypothesis: No strong evidence that the population mean is different from 70.\")\n"
      ],
      "metadata": {
        "colab": {
          "base_uri": "https://localhost:8080/"
        },
        "id": "Nu0f9ofYTZ8I",
        "outputId": "262f7f08-6df2-4dba-8ac9-6248180b0226"
      },
      "execution_count": 11,
      "outputs": [
        {
          "output_type": "stream",
          "name": "stdout",
          "text": [
            "T-Statistic: 1.0954\n",
            "P-Value: 0.2823\n",
            "Fail to reject the null hypothesis: No strong evidence that the population mean is different from 70.\n"
          ]
        }
      ]
    },
    {
      "cell_type": "code",
      "source": [],
      "metadata": {
        "id": "2UOAqGGHTtzv"
      },
      "execution_count": null,
      "outputs": []
    }
  ]
}